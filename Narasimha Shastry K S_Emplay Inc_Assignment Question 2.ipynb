{
 "cells": [
  {
   "cell_type": "markdown",
   "metadata": {},
   "source": [
    "# QUESTION - 2"
   ]
  },
  {
   "cell_type": "markdown",
   "metadata": {},
   "source": [
    "### "
   ]
  },
  {
   "cell_type": "markdown",
   "metadata": {},
   "source": [
    "### DATA PREPROCESSING "
   ]
  },
  {
   "cell_type": "code",
   "execution_count": 1,
   "metadata": {},
   "outputs": [],
   "source": [
    "#impoting required libraries\n",
    "import pandas as pd\n",
    "import numpy as np\n",
    "import matplotlib.pyplot as plt\n",
    "import seaborn as sns\n",
    "%matplotlib inline"
   ]
  },
  {
   "cell_type": "code",
   "execution_count": 2,
   "metadata": {},
   "outputs": [],
   "source": [
    "#reading the csv file 'emplayquestwo.csv'\n",
    "df = pd.read_csv('emplayquestwo.csv')"
   ]
  },
  {
   "cell_type": "code",
   "execution_count": 3,
   "metadata": {},
   "outputs": [],
   "source": [
    "#dropping unwanted extra columns which were present while importing the dataset.\n",
    "df.drop(df.columns[[6,7,8,9,10,11,12,13,14,15,16,17,18,19,20,21,22,23,24,25]],axis=1, inplace=True)"
   ]
  },
  {
   "cell_type": "code",
   "execution_count": 4,
   "metadata": {},
   "outputs": [
    {
     "name": "stdout",
     "output_type": "stream",
     "text": [
      "(30940, 6)\n"
     ]
    }
   ],
   "source": [
    "#getting the dimensions of the dataset df i.e. rows and columns of the dataset \n",
    "print(df.shape)"
   ]
  },
  {
   "cell_type": "code",
   "execution_count": 5,
   "metadata": {},
   "outputs": [
    {
     "data": {
      "text/html": [
       "<div>\n",
       "<style scoped>\n",
       "    .dataframe tbody tr th:only-of-type {\n",
       "        vertical-align: middle;\n",
       "    }\n",
       "\n",
       "    .dataframe tbody tr th {\n",
       "        vertical-align: top;\n",
       "    }\n",
       "\n",
       "    .dataframe thead th {\n",
       "        text-align: right;\n",
       "    }\n",
       "</style>\n",
       "<table border=\"1\" class=\"dataframe\">\n",
       "  <thead>\n",
       "    <tr style=\"text-align: right;\">\n",
       "      <th></th>\n",
       "      <th>Transaction_ID</th>\n",
       "      <th>Profile ID</th>\n",
       "      <th>Date_of_Booking</th>\n",
       "      <th>Date_of_Service_Requested</th>\n",
       "      <th>Source</th>\n",
       "      <th>Slot of Booking (Hour of the Day)</th>\n",
       "    </tr>\n",
       "  </thead>\n",
       "  <tbody>\n",
       "    <tr>\n",
       "      <th>0</th>\n",
       "      <td>BBCHH</td>\n",
       "      <td>1</td>\n",
       "      <td>2018-05-20</td>\n",
       "      <td>2018-05-21</td>\n",
       "      <td>D</td>\n",
       "      <td>14</td>\n",
       "    </tr>\n",
       "    <tr>\n",
       "      <th>1</th>\n",
       "      <td>CHWFD</td>\n",
       "      <td>1</td>\n",
       "      <td>2018-09-23</td>\n",
       "      <td>2018-09-23</td>\n",
       "      <td>C</td>\n",
       "      <td>8</td>\n",
       "    </tr>\n",
       "    <tr>\n",
       "      <th>2</th>\n",
       "      <td>DYDMF</td>\n",
       "      <td>2</td>\n",
       "      <td>2018-11-10</td>\n",
       "      <td>2018-11-13</td>\n",
       "      <td>C</td>\n",
       "      <td>11</td>\n",
       "    </tr>\n",
       "    <tr>\n",
       "      <th>3</th>\n",
       "      <td>EZYSA</td>\n",
       "      <td>3</td>\n",
       "      <td>2018-04-12</td>\n",
       "      <td>2018-04-16</td>\n",
       "      <td>B</td>\n",
       "      <td>8</td>\n",
       "    </tr>\n",
       "    <tr>\n",
       "      <th>4</th>\n",
       "      <td>HWAKX</td>\n",
       "      <td>3</td>\n",
       "      <td>2018-08-05</td>\n",
       "      <td>2018-08-06</td>\n",
       "      <td>B</td>\n",
       "      <td>11</td>\n",
       "    </tr>\n",
       "  </tbody>\n",
       "</table>\n",
       "</div>"
      ],
      "text/plain": [
       "  Transaction_ID  Profile ID Date_of_Booking Date_of_Service_Requested Source  \\\n",
       "0          BBCHH           1      2018-05-20                2018-05-21      D   \n",
       "1          CHWFD           1      2018-09-23                2018-09-23      C   \n",
       "2          DYDMF           2      2018-11-10                2018-11-13      C   \n",
       "3          EZYSA           3      2018-04-12                2018-04-16      B   \n",
       "4          HWAKX           3      2018-08-05                2018-08-06      B   \n",
       "\n",
       "   Slot of Booking (Hour of the Day)  \n",
       "0                                 14  \n",
       "1                                  8  \n",
       "2                                 11  \n",
       "3                                  8  \n",
       "4                                 11  "
      ]
     },
     "execution_count": 5,
     "metadata": {},
     "output_type": "execute_result"
    }
   ],
   "source": [
    "#printing the first 5 rows of the dataset\n",
    "df.head()"
   ]
  },
  {
   "cell_type": "code",
   "execution_count": 6,
   "metadata": {},
   "outputs": [
    {
     "name": "stdout",
     "output_type": "stream",
     "text": [
      "[    1     2     3 ... 16709 16710 16711]\n",
      "['D' 'C' 'B' 'A']\n"
     ]
    }
   ],
   "source": [
    "#printing the unique values for 'Profile ID' and 'Source' columns\n",
    "print(df['Profile ID'].unique())\n",
    "print(df['Source'].unique())"
   ]
  },
  {
   "cell_type": "code",
   "execution_count": 7,
   "metadata": {},
   "outputs": [
    {
     "data": {
      "text/html": [
       "<div>\n",
       "<style scoped>\n",
       "    .dataframe tbody tr th:only-of-type {\n",
       "        vertical-align: middle;\n",
       "    }\n",
       "\n",
       "    .dataframe tbody tr th {\n",
       "        vertical-align: top;\n",
       "    }\n",
       "\n",
       "    .dataframe thead th {\n",
       "        text-align: right;\n",
       "    }\n",
       "</style>\n",
       "<table border=\"1\" class=\"dataframe\">\n",
       "  <thead>\n",
       "    <tr style=\"text-align: right;\">\n",
       "      <th></th>\n",
       "      <th>Profile ID</th>\n",
       "      <th>Slot of Booking (Hour of the Day)</th>\n",
       "    </tr>\n",
       "  </thead>\n",
       "  <tbody>\n",
       "    <tr>\n",
       "      <th>count</th>\n",
       "      <td>30940.000000</td>\n",
       "      <td>30940.000000</td>\n",
       "    </tr>\n",
       "    <tr>\n",
       "      <th>mean</th>\n",
       "      <td>8329.657854</td>\n",
       "      <td>13.060440</td>\n",
       "    </tr>\n",
       "    <tr>\n",
       "      <th>std</th>\n",
       "      <td>4807.274974</td>\n",
       "      <td>3.135142</td>\n",
       "    </tr>\n",
       "    <tr>\n",
       "      <th>min</th>\n",
       "      <td>1.000000</td>\n",
       "      <td>6.000000</td>\n",
       "    </tr>\n",
       "    <tr>\n",
       "      <th>25%</th>\n",
       "      <td>4142.750000</td>\n",
       "      <td>12.000000</td>\n",
       "    </tr>\n",
       "    <tr>\n",
       "      <th>50%</th>\n",
       "      <td>8375.000000</td>\n",
       "      <td>14.000000</td>\n",
       "    </tr>\n",
       "    <tr>\n",
       "      <th>75%</th>\n",
       "      <td>12432.000000</td>\n",
       "      <td>14.000000</td>\n",
       "    </tr>\n",
       "    <tr>\n",
       "      <th>max</th>\n",
       "      <td>16711.000000</td>\n",
       "      <td>19.000000</td>\n",
       "    </tr>\n",
       "  </tbody>\n",
       "</table>\n",
       "</div>"
      ],
      "text/plain": [
       "         Profile ID  Slot of Booking (Hour of the Day)\n",
       "count  30940.000000                       30940.000000\n",
       "mean    8329.657854                          13.060440\n",
       "std     4807.274974                           3.135142\n",
       "min        1.000000                           6.000000\n",
       "25%     4142.750000                          12.000000\n",
       "50%     8375.000000                          14.000000\n",
       "75%    12432.000000                          14.000000\n",
       "max    16711.000000                          19.000000"
      ]
     },
     "execution_count": 7,
     "metadata": {},
     "output_type": "execute_result"
    }
   ],
   "source": [
    "#calculating statistical data of the numerical values of the DataFrame\n",
    "df.describe()"
   ]
  },
  {
   "cell_type": "code",
   "execution_count": 9,
   "metadata": {},
   "outputs": [
    {
     "data": {
      "text/plain": [
       "Transaction_ID                       0\n",
       "Profile ID                           0\n",
       "Date_of_Booking                      0\n",
       "Date_of_Service_Requested            0\n",
       "Source                               0\n",
       "Slot of Booking (Hour of the Day)    0\n",
       "dtype: int64"
      ]
     },
     "execution_count": 9,
     "metadata": {},
     "output_type": "execute_result"
    }
   ],
   "source": [
    "#checking for null values. No null values found in the dataset.\n",
    "df.isnull().sum()"
   ]
  },
  {
   "cell_type": "code",
   "execution_count": 10,
   "metadata": {},
   "outputs": [
    {
     "name": "stdout",
     "output_type": "stream",
     "text": [
      "<class 'pandas.core.frame.DataFrame'>\n",
      "RangeIndex: 30940 entries, 0 to 30939\n",
      "Data columns (total 6 columns):\n",
      " #   Column                             Non-Null Count  Dtype \n",
      "---  ------                             --------------  ----- \n",
      " 0   Transaction_ID                     30940 non-null  object\n",
      " 1   Profile ID                         30940 non-null  int64 \n",
      " 2   Date_of_Booking                    30940 non-null  object\n",
      " 3   Date_of_Service_Requested          30940 non-null  object\n",
      " 4   Source                             30940 non-null  object\n",
      " 5   Slot of Booking (Hour of the Day)  30940 non-null  int64 \n",
      "dtypes: int64(2), object(4)\n",
      "memory usage: 1.4+ MB\n"
     ]
    }
   ],
   "source": [
    "#getting a concise summary of the DataFrame\n",
    "df.info()"
   ]
  },
  {
   "cell_type": "code",
   "execution_count": 11,
   "metadata": {},
   "outputs": [
    {
     "data": {
      "text/html": [
       "<div>\n",
       "<style scoped>\n",
       "    .dataframe tbody tr th:only-of-type {\n",
       "        vertical-align: middle;\n",
       "    }\n",
       "\n",
       "    .dataframe tbody tr th {\n",
       "        vertical-align: top;\n",
       "    }\n",
       "\n",
       "    .dataframe thead th {\n",
       "        text-align: right;\n",
       "    }\n",
       "</style>\n",
       "<table border=\"1\" class=\"dataframe\">\n",
       "  <thead>\n",
       "    <tr style=\"text-align: right;\">\n",
       "      <th></th>\n",
       "      <th>Profile ID</th>\n",
       "      <th>Slot of Booking (Hour of the Day)</th>\n",
       "    </tr>\n",
       "  </thead>\n",
       "  <tbody>\n",
       "    <tr>\n",
       "      <th>Profile ID</th>\n",
       "      <td>1.000000</td>\n",
       "      <td>0.003601</td>\n",
       "    </tr>\n",
       "    <tr>\n",
       "      <th>Slot of Booking (Hour of the Day)</th>\n",
       "      <td>0.003601</td>\n",
       "      <td>1.000000</td>\n",
       "    </tr>\n",
       "  </tbody>\n",
       "</table>\n",
       "</div>"
      ],
      "text/plain": [
       "                                   Profile ID  \\\n",
       "Profile ID                           1.000000   \n",
       "Slot of Booking (Hour of the Day)    0.003601   \n",
       "\n",
       "                                   Slot of Booking (Hour of the Day)  \n",
       "Profile ID                                                  0.003601  \n",
       "Slot of Booking (Hour of the Day)                           1.000000  "
      ]
     },
     "execution_count": 11,
     "metadata": {},
     "output_type": "execute_result"
    }
   ],
   "source": [
    "#getting the correlation of the numerical values\n",
    "df.corr()"
   ]
  },
  {
   "cell_type": "code",
   "execution_count": null,
   "metadata": {},
   "outputs": [],
   "source": [
    "900,950,1000,1050,1100,1150,1200,1250,1300,1350,1400,1450,1500,1550,1600,1650,1700,1750,1800,1850,1900,2000,2050,2100,2150,\n",
    ",600,650,700,750,800,850,900,950,1000,1050,1100,1150,1200,1250,1300,1350,1400,1450,1500,1550,1600,1650,1700,1750,1800,1850,1900,2000,2050,2100,2150,2200,2250,2300"
   ]
  },
  {
   "cell_type": "markdown",
   "metadata": {},
   "source": []
  },
  {
   "cell_type": "markdown",
   "metadata": {},
   "source": [
    "# SOLUTION FOR QUESTION-1 ##################"
   ]
  },
  {
   "cell_type": "markdown",
   "metadata": {},
   "source": [
    "#### QUESTION-1: Please plot month on month User acquisition rate"
   ]
  },
  {
   "cell_type": "markdown",
   "metadata": {},
   "source": [
    "##### "
   ]
  },
  {
   "cell_type": "code",
   "execution_count": 12,
   "metadata": {},
   "outputs": [],
   "source": [
    "#removing the duplicates for 'Profile ID' column in the dataset\n",
    "df_without_dup=df.drop_duplicates(subset=\"Profile ID\", keep=\"first\")"
   ]
  },
  {
   "cell_type": "code",
   "execution_count": 13,
   "metadata": {},
   "outputs": [
    {
     "data": {
      "text/html": [
       "<div>\n",
       "<style scoped>\n",
       "    .dataframe tbody tr th:only-of-type {\n",
       "        vertical-align: middle;\n",
       "    }\n",
       "\n",
       "    .dataframe tbody tr th {\n",
       "        vertical-align: top;\n",
       "    }\n",
       "\n",
       "    .dataframe thead th {\n",
       "        text-align: right;\n",
       "    }\n",
       "</style>\n",
       "<table border=\"1\" class=\"dataframe\">\n",
       "  <thead>\n",
       "    <tr style=\"text-align: right;\">\n",
       "      <th></th>\n",
       "      <th>Transaction_ID</th>\n",
       "      <th>Profile ID</th>\n",
       "      <th>Date_of_Booking</th>\n",
       "      <th>Date_of_Service_Requested</th>\n",
       "      <th>Source</th>\n",
       "      <th>Slot of Booking (Hour of the Day)</th>\n",
       "    </tr>\n",
       "  </thead>\n",
       "  <tbody>\n",
       "    <tr>\n",
       "      <th>0</th>\n",
       "      <td>BBCHH</td>\n",
       "      <td>1</td>\n",
       "      <td>2018-05-20</td>\n",
       "      <td>2018-05-21</td>\n",
       "      <td>D</td>\n",
       "      <td>14</td>\n",
       "    </tr>\n",
       "    <tr>\n",
       "      <th>2</th>\n",
       "      <td>DYDMF</td>\n",
       "      <td>2</td>\n",
       "      <td>2018-11-10</td>\n",
       "      <td>2018-11-13</td>\n",
       "      <td>C</td>\n",
       "      <td>11</td>\n",
       "    </tr>\n",
       "    <tr>\n",
       "      <th>3</th>\n",
       "      <td>EZYSA</td>\n",
       "      <td>3</td>\n",
       "      <td>2018-04-12</td>\n",
       "      <td>2018-04-16</td>\n",
       "      <td>B</td>\n",
       "      <td>8</td>\n",
       "    </tr>\n",
       "    <tr>\n",
       "      <th>5</th>\n",
       "      <td>YRKFO</td>\n",
       "      <td>4</td>\n",
       "      <td>2018-03-02</td>\n",
       "      <td>2018-03-05</td>\n",
       "      <td>A</td>\n",
       "      <td>13</td>\n",
       "    </tr>\n",
       "    <tr>\n",
       "      <th>6</th>\n",
       "      <td>JSFWY</td>\n",
       "      <td>5</td>\n",
       "      <td>2018-01-06</td>\n",
       "      <td>2018-01-07</td>\n",
       "      <td>C</td>\n",
       "      <td>14</td>\n",
       "    </tr>\n",
       "  </tbody>\n",
       "</table>\n",
       "</div>"
      ],
      "text/plain": [
       "  Transaction_ID  Profile ID Date_of_Booking Date_of_Service_Requested Source  \\\n",
       "0          BBCHH           1      2018-05-20                2018-05-21      D   \n",
       "2          DYDMF           2      2018-11-10                2018-11-13      C   \n",
       "3          EZYSA           3      2018-04-12                2018-04-16      B   \n",
       "5          YRKFO           4      2018-03-02                2018-03-05      A   \n",
       "6          JSFWY           5      2018-01-06                2018-01-07      C   \n",
       "\n",
       "   Slot of Booking (Hour of the Day)  \n",
       "0                                 14  \n",
       "2                                 11  \n",
       "3                                  8  \n",
       "5                                 13  \n",
       "6                                 14  "
      ]
     },
     "execution_count": 13,
     "metadata": {},
     "output_type": "execute_result"
    }
   ],
   "source": [
    "df_without_dup.head()"
   ]
  },
  {
   "cell_type": "code",
   "execution_count": 14,
   "metadata": {},
   "outputs": [
    {
     "name": "stdout",
     "output_type": "stream",
     "text": [
      "(16711, 6)\n"
     ]
    }
   ],
   "source": [
    "print(df_without_dup.shape)"
   ]
  },
  {
   "cell_type": "code",
   "execution_count": 15,
   "metadata": {},
   "outputs": [
    {
     "data": {
      "text/html": [
       "<div>\n",
       "<style scoped>\n",
       "    .dataframe tbody tr th:only-of-type {\n",
       "        vertical-align: middle;\n",
       "    }\n",
       "\n",
       "    .dataframe tbody tr th {\n",
       "        vertical-align: top;\n",
       "    }\n",
       "\n",
       "    .dataframe thead th {\n",
       "        text-align: right;\n",
       "    }\n",
       "</style>\n",
       "<table border=\"1\" class=\"dataframe\">\n",
       "  <thead>\n",
       "    <tr style=\"text-align: right;\">\n",
       "      <th></th>\n",
       "      <th>Transaction_ID</th>\n",
       "      <th>Profile ID</th>\n",
       "      <th>Date_of_Booking</th>\n",
       "      <th>Date_of_Service_Requested</th>\n",
       "      <th>Source</th>\n",
       "      <th>Slot of Booking (Hour of the Day)</th>\n",
       "    </tr>\n",
       "  </thead>\n",
       "  <tbody>\n",
       "    <tr>\n",
       "      <th>0</th>\n",
       "      <td>BBCHH</td>\n",
       "      <td>1</td>\n",
       "      <td>2018-05-20</td>\n",
       "      <td>2018-05-21</td>\n",
       "      <td>D</td>\n",
       "      <td>14</td>\n",
       "    </tr>\n",
       "    <tr>\n",
       "      <th>1</th>\n",
       "      <td>CHWFD</td>\n",
       "      <td>1</td>\n",
       "      <td>2018-09-23</td>\n",
       "      <td>2018-09-23</td>\n",
       "      <td>C</td>\n",
       "      <td>8</td>\n",
       "    </tr>\n",
       "    <tr>\n",
       "      <th>2</th>\n",
       "      <td>DYDMF</td>\n",
       "      <td>2</td>\n",
       "      <td>2018-11-10</td>\n",
       "      <td>2018-11-13</td>\n",
       "      <td>C</td>\n",
       "      <td>11</td>\n",
       "    </tr>\n",
       "    <tr>\n",
       "      <th>3</th>\n",
       "      <td>EZYSA</td>\n",
       "      <td>3</td>\n",
       "      <td>2018-04-12</td>\n",
       "      <td>2018-04-16</td>\n",
       "      <td>B</td>\n",
       "      <td>8</td>\n",
       "    </tr>\n",
       "    <tr>\n",
       "      <th>4</th>\n",
       "      <td>HWAKX</td>\n",
       "      <td>3</td>\n",
       "      <td>2018-08-05</td>\n",
       "      <td>2018-08-06</td>\n",
       "      <td>B</td>\n",
       "      <td>11</td>\n",
       "    </tr>\n",
       "  </tbody>\n",
       "</table>\n",
       "</div>"
      ],
      "text/plain": [
       "  Transaction_ID  Profile ID Date_of_Booking Date_of_Service_Requested Source  \\\n",
       "0          BBCHH           1      2018-05-20                2018-05-21      D   \n",
       "1          CHWFD           1      2018-09-23                2018-09-23      C   \n",
       "2          DYDMF           2      2018-11-10                2018-11-13      C   \n",
       "3          EZYSA           3      2018-04-12                2018-04-16      B   \n",
       "4          HWAKX           3      2018-08-05                2018-08-06      B   \n",
       "\n",
       "   Slot of Booking (Hour of the Day)  \n",
       "0                                 14  \n",
       "1                                  8  \n",
       "2                                 11  \n",
       "3                                  8  \n",
       "4                                 11  "
      ]
     },
     "execution_count": 15,
     "metadata": {},
     "output_type": "execute_result"
    }
   ],
   "source": [
    "df.head()"
   ]
  },
  {
   "cell_type": "code",
   "execution_count": 16,
   "metadata": {},
   "outputs": [
    {
     "data": {
      "text/html": [
       "<div>\n",
       "<style scoped>\n",
       "    .dataframe tbody tr th:only-of-type {\n",
       "        vertical-align: middle;\n",
       "    }\n",
       "\n",
       "    .dataframe tbody tr th {\n",
       "        vertical-align: top;\n",
       "    }\n",
       "\n",
       "    .dataframe thead th {\n",
       "        text-align: right;\n",
       "    }\n",
       "</style>\n",
       "<table border=\"1\" class=\"dataframe\">\n",
       "  <thead>\n",
       "    <tr style=\"text-align: right;\">\n",
       "      <th></th>\n",
       "      <th>Transaction_ID</th>\n",
       "      <th>Profile ID</th>\n",
       "      <th>Date_of_Booking</th>\n",
       "      <th>Date_of_Service_Requested</th>\n",
       "      <th>Source</th>\n",
       "      <th>Slot of Booking (Hour of the Day)</th>\n",
       "    </tr>\n",
       "  </thead>\n",
       "  <tbody>\n",
       "    <tr>\n",
       "      <th>0</th>\n",
       "      <td>BBCHH</td>\n",
       "      <td>1</td>\n",
       "      <td>2018-05-20</td>\n",
       "      <td>2018-05-21</td>\n",
       "      <td>D</td>\n",
       "      <td>14</td>\n",
       "    </tr>\n",
       "    <tr>\n",
       "      <th>2</th>\n",
       "      <td>DYDMF</td>\n",
       "      <td>2</td>\n",
       "      <td>2018-11-10</td>\n",
       "      <td>2018-11-13</td>\n",
       "      <td>C</td>\n",
       "      <td>11</td>\n",
       "    </tr>\n",
       "    <tr>\n",
       "      <th>3</th>\n",
       "      <td>EZYSA</td>\n",
       "      <td>3</td>\n",
       "      <td>2018-04-12</td>\n",
       "      <td>2018-04-16</td>\n",
       "      <td>B</td>\n",
       "      <td>8</td>\n",
       "    </tr>\n",
       "    <tr>\n",
       "      <th>5</th>\n",
       "      <td>YRKFO</td>\n",
       "      <td>4</td>\n",
       "      <td>2018-03-02</td>\n",
       "      <td>2018-03-05</td>\n",
       "      <td>A</td>\n",
       "      <td>13</td>\n",
       "    </tr>\n",
       "    <tr>\n",
       "      <th>6</th>\n",
       "      <td>JSFWY</td>\n",
       "      <td>5</td>\n",
       "      <td>2018-01-06</td>\n",
       "      <td>2018-01-07</td>\n",
       "      <td>C</td>\n",
       "      <td>14</td>\n",
       "    </tr>\n",
       "    <tr>\n",
       "      <th>...</th>\n",
       "      <td>...</td>\n",
       "      <td>...</td>\n",
       "      <td>...</td>\n",
       "      <td>...</td>\n",
       "      <td>...</td>\n",
       "      <td>...</td>\n",
       "    </tr>\n",
       "    <tr>\n",
       "      <th>30934</th>\n",
       "      <td>SXRYD</td>\n",
       "      <td>16707</td>\n",
       "      <td>2018-03-09</td>\n",
       "      <td>2018-03-10</td>\n",
       "      <td>B</td>\n",
       "      <td>14</td>\n",
       "    </tr>\n",
       "    <tr>\n",
       "      <th>30936</th>\n",
       "      <td>ZNKAO</td>\n",
       "      <td>16708</td>\n",
       "      <td>2018-03-12</td>\n",
       "      <td>2018-03-16</td>\n",
       "      <td>A</td>\n",
       "      <td>13</td>\n",
       "    </tr>\n",
       "    <tr>\n",
       "      <th>30937</th>\n",
       "      <td>INBOS</td>\n",
       "      <td>16709</td>\n",
       "      <td>2018-01-05</td>\n",
       "      <td>2018-01-10</td>\n",
       "      <td>C</td>\n",
       "      <td>14</td>\n",
       "    </tr>\n",
       "    <tr>\n",
       "      <th>30938</th>\n",
       "      <td>CUNOS</td>\n",
       "      <td>16710</td>\n",
       "      <td>2018-02-26</td>\n",
       "      <td>2018-03-03</td>\n",
       "      <td>C</td>\n",
       "      <td>19</td>\n",
       "    </tr>\n",
       "    <tr>\n",
       "      <th>30939</th>\n",
       "      <td>DUBEV</td>\n",
       "      <td>16711</td>\n",
       "      <td>2018-04-30</td>\n",
       "      <td>2018-05-03</td>\n",
       "      <td>B</td>\n",
       "      <td>13</td>\n",
       "    </tr>\n",
       "  </tbody>\n",
       "</table>\n",
       "<p>16711 rows × 6 columns</p>\n",
       "</div>"
      ],
      "text/plain": [
       "      Transaction_ID  Profile ID Date_of_Booking Date_of_Service_Requested  \\\n",
       "0              BBCHH           1      2018-05-20                2018-05-21   \n",
       "2              DYDMF           2      2018-11-10                2018-11-13   \n",
       "3              EZYSA           3      2018-04-12                2018-04-16   \n",
       "5              YRKFO           4      2018-03-02                2018-03-05   \n",
       "6              JSFWY           5      2018-01-06                2018-01-07   \n",
       "...              ...         ...             ...                       ...   \n",
       "30934          SXRYD       16707      2018-03-09                2018-03-10   \n",
       "30936          ZNKAO       16708      2018-03-12                2018-03-16   \n",
       "30937          INBOS       16709      2018-01-05                2018-01-10   \n",
       "30938          CUNOS       16710      2018-02-26                2018-03-03   \n",
       "30939          DUBEV       16711      2018-04-30                2018-05-03   \n",
       "\n",
       "      Source  Slot of Booking (Hour of the Day)  \n",
       "0          D                                 14  \n",
       "2          C                                 11  \n",
       "3          B                                  8  \n",
       "5          A                                 13  \n",
       "6          C                                 14  \n",
       "...      ...                                ...  \n",
       "30934      B                                 14  \n",
       "30936      A                                 13  \n",
       "30937      C                                 14  \n",
       "30938      C                                 19  \n",
       "30939      B                                 13  \n",
       "\n",
       "[16711 rows x 6 columns]"
      ]
     },
     "execution_count": 16,
     "metadata": {},
     "output_type": "execute_result"
    }
   ],
   "source": [
    "df_without_dup"
   ]
  },
  {
   "cell_type": "code",
   "execution_count": 17,
   "metadata": {},
   "outputs": [],
   "source": [
    "#importing datetime library, to work with dates and times\n",
    "import datetime"
   ]
  },
  {
   "cell_type": "code",
   "execution_count": 18,
   "metadata": {},
   "outputs": [
    {
     "name": "stdout",
     "output_type": "stream",
     "text": [
      "0       2018-05-20\n",
      "2       2018-11-10\n",
      "3       2018-04-12\n",
      "5       2018-03-02\n",
      "6       2018-01-06\n",
      "           ...    \n",
      "30934   2018-03-09\n",
      "30936   2018-03-12\n",
      "30937   2018-01-05\n",
      "30938   2018-02-26\n",
      "30939   2018-04-30\n",
      "Name: Date_of_Booking, Length: 16711, dtype: datetime64[ns]\n"
     ]
    }
   ],
   "source": [
    "#converting 'Date_of_Booking' column to readable date format for dataframe without duplicate 'Profile ID'\n",
    "Date = pd.to_datetime(df_without_dup['Date_of_Booking'], format='%Y-%m-%d')\n",
    "print(Date)"
   ]
  },
  {
   "cell_type": "code",
   "execution_count": 19,
   "metadata": {},
   "outputs": [
    {
     "name": "stdout",
     "output_type": "stream",
     "text": [
      "0             May\n",
      "2        November\n",
      "3           April\n",
      "5           March\n",
      "6         January\n",
      "           ...   \n",
      "30934       March\n",
      "30936       March\n",
      "30937     January\n",
      "30938    February\n",
      "30939       April\n",
      "Name: Date_of_Booking, Length: 16711, dtype: object\n"
     ]
    }
   ],
   "source": [
    "#extracting month name from date format for dataframe without duplicate 'Profile ID'\n",
    "month= Date.dt.month_name(locale='English')\n",
    "print(month)"
   ]
  },
  {
   "cell_type": "code",
   "execution_count": 20,
   "metadata": {},
   "outputs": [
    {
     "data": {
      "text/plain": [
       "(16711,)"
      ]
     },
     "execution_count": 20,
     "metadata": {},
     "output_type": "execute_result"
    }
   ],
   "source": [
    "month.shape"
   ]
  },
  {
   "cell_type": "code",
   "execution_count": 21,
   "metadata": {},
   "outputs": [
    {
     "data": {
      "text/html": [
       "<div>\n",
       "<style scoped>\n",
       "    .dataframe tbody tr th:only-of-type {\n",
       "        vertical-align: middle;\n",
       "    }\n",
       "\n",
       "    .dataframe tbody tr th {\n",
       "        vertical-align: top;\n",
       "    }\n",
       "\n",
       "    .dataframe thead th {\n",
       "        text-align: right;\n",
       "    }\n",
       "</style>\n",
       "<table border=\"1\" class=\"dataframe\">\n",
       "  <thead>\n",
       "    <tr style=\"text-align: right;\">\n",
       "      <th></th>\n",
       "      <th>Transaction_ID</th>\n",
       "      <th>Profile ID</th>\n",
       "      <th>Date_of_Booking</th>\n",
       "      <th>Date_of_Service_Requested</th>\n",
       "      <th>Source</th>\n",
       "      <th>Slot of Booking (Hour of the Day)</th>\n",
       "    </tr>\n",
       "  </thead>\n",
       "  <tbody>\n",
       "    <tr>\n",
       "      <th>0</th>\n",
       "      <td>BBCHH</td>\n",
       "      <td>1</td>\n",
       "      <td>2018-05-20</td>\n",
       "      <td>2018-05-21</td>\n",
       "      <td>D</td>\n",
       "      <td>14</td>\n",
       "    </tr>\n",
       "    <tr>\n",
       "      <th>2</th>\n",
       "      <td>DYDMF</td>\n",
       "      <td>2</td>\n",
       "      <td>2018-11-10</td>\n",
       "      <td>2018-11-13</td>\n",
       "      <td>C</td>\n",
       "      <td>11</td>\n",
       "    </tr>\n",
       "    <tr>\n",
       "      <th>3</th>\n",
       "      <td>EZYSA</td>\n",
       "      <td>3</td>\n",
       "      <td>2018-04-12</td>\n",
       "      <td>2018-04-16</td>\n",
       "      <td>B</td>\n",
       "      <td>8</td>\n",
       "    </tr>\n",
       "    <tr>\n",
       "      <th>5</th>\n",
       "      <td>YRKFO</td>\n",
       "      <td>4</td>\n",
       "      <td>2018-03-02</td>\n",
       "      <td>2018-03-05</td>\n",
       "      <td>A</td>\n",
       "      <td>13</td>\n",
       "    </tr>\n",
       "    <tr>\n",
       "      <th>6</th>\n",
       "      <td>JSFWY</td>\n",
       "      <td>5</td>\n",
       "      <td>2018-01-06</td>\n",
       "      <td>2018-01-07</td>\n",
       "      <td>C</td>\n",
       "      <td>14</td>\n",
       "    </tr>\n",
       "    <tr>\n",
       "      <th>...</th>\n",
       "      <td>...</td>\n",
       "      <td>...</td>\n",
       "      <td>...</td>\n",
       "      <td>...</td>\n",
       "      <td>...</td>\n",
       "      <td>...</td>\n",
       "    </tr>\n",
       "    <tr>\n",
       "      <th>30934</th>\n",
       "      <td>SXRYD</td>\n",
       "      <td>16707</td>\n",
       "      <td>2018-03-09</td>\n",
       "      <td>2018-03-10</td>\n",
       "      <td>B</td>\n",
       "      <td>14</td>\n",
       "    </tr>\n",
       "    <tr>\n",
       "      <th>30936</th>\n",
       "      <td>ZNKAO</td>\n",
       "      <td>16708</td>\n",
       "      <td>2018-03-12</td>\n",
       "      <td>2018-03-16</td>\n",
       "      <td>A</td>\n",
       "      <td>13</td>\n",
       "    </tr>\n",
       "    <tr>\n",
       "      <th>30937</th>\n",
       "      <td>INBOS</td>\n",
       "      <td>16709</td>\n",
       "      <td>2018-01-05</td>\n",
       "      <td>2018-01-10</td>\n",
       "      <td>C</td>\n",
       "      <td>14</td>\n",
       "    </tr>\n",
       "    <tr>\n",
       "      <th>30938</th>\n",
       "      <td>CUNOS</td>\n",
       "      <td>16710</td>\n",
       "      <td>2018-02-26</td>\n",
       "      <td>2018-03-03</td>\n",
       "      <td>C</td>\n",
       "      <td>19</td>\n",
       "    </tr>\n",
       "    <tr>\n",
       "      <th>30939</th>\n",
       "      <td>DUBEV</td>\n",
       "      <td>16711</td>\n",
       "      <td>2018-04-30</td>\n",
       "      <td>2018-05-03</td>\n",
       "      <td>B</td>\n",
       "      <td>13</td>\n",
       "    </tr>\n",
       "  </tbody>\n",
       "</table>\n",
       "<p>16711 rows × 6 columns</p>\n",
       "</div>"
      ],
      "text/plain": [
       "      Transaction_ID  Profile ID Date_of_Booking Date_of_Service_Requested  \\\n",
       "0              BBCHH           1      2018-05-20                2018-05-21   \n",
       "2              DYDMF           2      2018-11-10                2018-11-13   \n",
       "3              EZYSA           3      2018-04-12                2018-04-16   \n",
       "5              YRKFO           4      2018-03-02                2018-03-05   \n",
       "6              JSFWY           5      2018-01-06                2018-01-07   \n",
       "...              ...         ...             ...                       ...   \n",
       "30934          SXRYD       16707      2018-03-09                2018-03-10   \n",
       "30936          ZNKAO       16708      2018-03-12                2018-03-16   \n",
       "30937          INBOS       16709      2018-01-05                2018-01-10   \n",
       "30938          CUNOS       16710      2018-02-26                2018-03-03   \n",
       "30939          DUBEV       16711      2018-04-30                2018-05-03   \n",
       "\n",
       "      Source  Slot of Booking (Hour of the Day)  \n",
       "0          D                                 14  \n",
       "2          C                                 11  \n",
       "3          B                                  8  \n",
       "5          A                                 13  \n",
       "6          C                                 14  \n",
       "...      ...                                ...  \n",
       "30934      B                                 14  \n",
       "30936      A                                 13  \n",
       "30937      C                                 14  \n",
       "30938      C                                 19  \n",
       "30939      B                                 13  \n",
       "\n",
       "[16711 rows x 6 columns]"
      ]
     },
     "execution_count": 21,
     "metadata": {},
     "output_type": "execute_result"
    }
   ],
   "source": [
    "df_without_dup"
   ]
  },
  {
   "cell_type": "code",
   "execution_count": 22,
   "metadata": {},
   "outputs": [],
   "source": [
    "#inserting the 'Date_of_Booking_month_name' column into dataframe without duplicate 'Profile ID' as 4th column\n",
    "df_without_dup.insert(3, \"Date_of_Booking_month_name\", month)"
   ]
  },
  {
   "cell_type": "code",
   "execution_count": 23,
   "metadata": {},
   "outputs": [
    {
     "data": {
      "text/html": [
       "<div>\n",
       "<style scoped>\n",
       "    .dataframe tbody tr th:only-of-type {\n",
       "        vertical-align: middle;\n",
       "    }\n",
       "\n",
       "    .dataframe tbody tr th {\n",
       "        vertical-align: top;\n",
       "    }\n",
       "\n",
       "    .dataframe thead th {\n",
       "        text-align: right;\n",
       "    }\n",
       "</style>\n",
       "<table border=\"1\" class=\"dataframe\">\n",
       "  <thead>\n",
       "    <tr style=\"text-align: right;\">\n",
       "      <th></th>\n",
       "      <th>Transaction_ID</th>\n",
       "      <th>Profile ID</th>\n",
       "      <th>Date_of_Booking</th>\n",
       "      <th>Date_of_Booking_month_name</th>\n",
       "      <th>Date_of_Service_Requested</th>\n",
       "      <th>Source</th>\n",
       "      <th>Slot of Booking (Hour of the Day)</th>\n",
       "    </tr>\n",
       "  </thead>\n",
       "  <tbody>\n",
       "    <tr>\n",
       "      <th>0</th>\n",
       "      <td>BBCHH</td>\n",
       "      <td>1</td>\n",
       "      <td>2018-05-20</td>\n",
       "      <td>May</td>\n",
       "      <td>2018-05-21</td>\n",
       "      <td>D</td>\n",
       "      <td>14</td>\n",
       "    </tr>\n",
       "    <tr>\n",
       "      <th>2</th>\n",
       "      <td>DYDMF</td>\n",
       "      <td>2</td>\n",
       "      <td>2018-11-10</td>\n",
       "      <td>November</td>\n",
       "      <td>2018-11-13</td>\n",
       "      <td>C</td>\n",
       "      <td>11</td>\n",
       "    </tr>\n",
       "    <tr>\n",
       "      <th>3</th>\n",
       "      <td>EZYSA</td>\n",
       "      <td>3</td>\n",
       "      <td>2018-04-12</td>\n",
       "      <td>April</td>\n",
       "      <td>2018-04-16</td>\n",
       "      <td>B</td>\n",
       "      <td>8</td>\n",
       "    </tr>\n",
       "    <tr>\n",
       "      <th>5</th>\n",
       "      <td>YRKFO</td>\n",
       "      <td>4</td>\n",
       "      <td>2018-03-02</td>\n",
       "      <td>March</td>\n",
       "      <td>2018-03-05</td>\n",
       "      <td>A</td>\n",
       "      <td>13</td>\n",
       "    </tr>\n",
       "    <tr>\n",
       "      <th>6</th>\n",
       "      <td>JSFWY</td>\n",
       "      <td>5</td>\n",
       "      <td>2018-01-06</td>\n",
       "      <td>January</td>\n",
       "      <td>2018-01-07</td>\n",
       "      <td>C</td>\n",
       "      <td>14</td>\n",
       "    </tr>\n",
       "    <tr>\n",
       "      <th>...</th>\n",
       "      <td>...</td>\n",
       "      <td>...</td>\n",
       "      <td>...</td>\n",
       "      <td>...</td>\n",
       "      <td>...</td>\n",
       "      <td>...</td>\n",
       "      <td>...</td>\n",
       "    </tr>\n",
       "    <tr>\n",
       "      <th>30934</th>\n",
       "      <td>SXRYD</td>\n",
       "      <td>16707</td>\n",
       "      <td>2018-03-09</td>\n",
       "      <td>March</td>\n",
       "      <td>2018-03-10</td>\n",
       "      <td>B</td>\n",
       "      <td>14</td>\n",
       "    </tr>\n",
       "    <tr>\n",
       "      <th>30936</th>\n",
       "      <td>ZNKAO</td>\n",
       "      <td>16708</td>\n",
       "      <td>2018-03-12</td>\n",
       "      <td>March</td>\n",
       "      <td>2018-03-16</td>\n",
       "      <td>A</td>\n",
       "      <td>13</td>\n",
       "    </tr>\n",
       "    <tr>\n",
       "      <th>30937</th>\n",
       "      <td>INBOS</td>\n",
       "      <td>16709</td>\n",
       "      <td>2018-01-05</td>\n",
       "      <td>January</td>\n",
       "      <td>2018-01-10</td>\n",
       "      <td>C</td>\n",
       "      <td>14</td>\n",
       "    </tr>\n",
       "    <tr>\n",
       "      <th>30938</th>\n",
       "      <td>CUNOS</td>\n",
       "      <td>16710</td>\n",
       "      <td>2018-02-26</td>\n",
       "      <td>February</td>\n",
       "      <td>2018-03-03</td>\n",
       "      <td>C</td>\n",
       "      <td>19</td>\n",
       "    </tr>\n",
       "    <tr>\n",
       "      <th>30939</th>\n",
       "      <td>DUBEV</td>\n",
       "      <td>16711</td>\n",
       "      <td>2018-04-30</td>\n",
       "      <td>April</td>\n",
       "      <td>2018-05-03</td>\n",
       "      <td>B</td>\n",
       "      <td>13</td>\n",
       "    </tr>\n",
       "  </tbody>\n",
       "</table>\n",
       "<p>16711 rows × 7 columns</p>\n",
       "</div>"
      ],
      "text/plain": [
       "      Transaction_ID  Profile ID Date_of_Booking Date_of_Booking_month_name  \\\n",
       "0              BBCHH           1      2018-05-20                        May   \n",
       "2              DYDMF           2      2018-11-10                   November   \n",
       "3              EZYSA           3      2018-04-12                      April   \n",
       "5              YRKFO           4      2018-03-02                      March   \n",
       "6              JSFWY           5      2018-01-06                    January   \n",
       "...              ...         ...             ...                        ...   \n",
       "30934          SXRYD       16707      2018-03-09                      March   \n",
       "30936          ZNKAO       16708      2018-03-12                      March   \n",
       "30937          INBOS       16709      2018-01-05                    January   \n",
       "30938          CUNOS       16710      2018-02-26                   February   \n",
       "30939          DUBEV       16711      2018-04-30                      April   \n",
       "\n",
       "      Date_of_Service_Requested Source  Slot of Booking (Hour of the Day)  \n",
       "0                    2018-05-21      D                                 14  \n",
       "2                    2018-11-13      C                                 11  \n",
       "3                    2018-04-16      B                                  8  \n",
       "5                    2018-03-05      A                                 13  \n",
       "6                    2018-01-07      C                                 14  \n",
       "...                         ...    ...                                ...  \n",
       "30934                2018-03-10      B                                 14  \n",
       "30936                2018-03-16      A                                 13  \n",
       "30937                2018-01-10      C                                 14  \n",
       "30938                2018-03-03      C                                 19  \n",
       "30939                2018-05-03      B                                 13  \n",
       "\n",
       "[16711 rows x 7 columns]"
      ]
     },
     "execution_count": 23,
     "metadata": {},
     "output_type": "execute_result"
    }
   ],
   "source": [
    "df_without_dup"
   ]
  },
  {
   "cell_type": "code",
   "execution_count": 24,
   "metadata": {},
   "outputs": [
    {
     "name": "stdout",
     "output_type": "stream",
     "text": [
      "2424 1892 1549 1490 1346 1264 1273 1208 1120 1020 1110 1015\n"
     ]
    }
   ],
   "source": [
    "#extracing the count of months from dataframe without duplicate 'Profile ID'\n",
    "dec=df_without_dup.Date_of_Booking_month_name.value_counts().December\n",
    "jan=df_without_dup.Date_of_Booking_month_name.value_counts().January\n",
    "feb=df_without_dup.Date_of_Booking_month_name.value_counts().February\n",
    "mar=df_without_dup.Date_of_Booking_month_name.value_counts().March\n",
    "apr=df_without_dup.Date_of_Booking_month_name.value_counts().April\n",
    "may=df_without_dup.Date_of_Booking_month_name.value_counts().May\n",
    "jun=df_without_dup.Date_of_Booking_month_name.value_counts().June\n",
    "jul=df_without_dup.Date_of_Booking_month_name.value_counts().July\n",
    "aug=df_without_dup.Date_of_Booking_month_name.value_counts().August\n",
    "spt=df_without_dup.Date_of_Booking_month_name.value_counts().September\n",
    "otb=df_without_dup.Date_of_Booking_month_name.value_counts().October\n",
    "nov=df_without_dup.Date_of_Booking_month_name.value_counts().November\n",
    "print(dec,jan,feb,mar,apr,may,jun,jul,aug,spt,otb,nov)"
   ]
  },
  {
   "cell_type": "code",
   "execution_count": 48,
   "metadata": {},
   "outputs": [
    {
     "name": "stdout",
     "output_type": "stream",
     "text": [
      "2424 1892 1549 1490 1346 1264 1273 1208 1120 1020 1110 1015\n"
     ]
    }
   ],
   "source": []
  },
  {
   "cell_type": "code",
   "execution_count": 25,
   "metadata": {},
   "outputs": [],
   "source": [
    "#creating a list of months\n",
    "Monthss=['dec','jan','feb','mar','apr','may','jun','jul','aug','spt','otb','nov']"
   ]
  },
  {
   "cell_type": "code",
   "execution_count": 26,
   "metadata": {},
   "outputs": [],
   "source": [
    "#creating a list of no.of unique users in a particular month from the count obtained above\n",
    "Number_of_users=[2424, 1892, 1549, 1490, 1346, 1264, 1273, 1208, 1120, 1020, 1110, 1015]"
   ]
  },
  {
   "cell_type": "code",
   "execution_count": 27,
   "metadata": {},
   "outputs": [
    {
     "name": "stdout",
     "output_type": "stream",
     "text": [
      "-21.947194719471952\n",
      "-18.12896405919662\n",
      "-3.808908973531311\n",
      "-9.664429530201346\n",
      "-6.092124814264488\n",
      "0.7120253164556889\n",
      "-5.106048703849176\n",
      "-7.284768211920534\n",
      "-8.92857142857143\n",
      "8.823529411764696\n",
      "-8.558558558558559\n"
     ]
    }
   ],
   "source": [
    "#obtaining Month-on-Month user acquisition rate\n",
    "length=len(Number_of_users)\n",
    "for i in range(length-1):\n",
    "    mom_user_acquisition_rate=(((Number_of_users[i+1])/Number_of_users[i])-1)*100\n",
    "    print(mom_user_acquisition_rate)"
   ]
  },
  {
   "cell_type": "code",
   "execution_count": 28,
   "metadata": {},
   "outputs": [
    {
     "data": {
      "text/plain": [
       "[0,\n",
       " -21.947194719471952,\n",
       " -18.12896405919662,\n",
       " -3.808908973531311,\n",
       " -9.664429530201346,\n",
       " -6.092124814264488,\n",
       " 0.7120253164556889,\n",
       " -5.106048703849176,\n",
       " -7.284768211920534,\n",
       " -8.92857142857143,\n",
       " 8.823529411764696,\n",
       " -8.558558558558559]"
      ]
     },
     "execution_count": 28,
     "metadata": {},
     "output_type": "execute_result"
    }
   ],
   "source": [
    "#creating a list from Month-on-Month user acquisition rate values\n",
    "mom_user_acquisition_rate_lst=[0,-21.947194719471952, -18.12896405919662,-3.808908973531311,-9.664429530201346 ,-6.092124814264488,0.7120253164556889 ,-5.106048703849176 ,-7.284768211920534 , -8.92857142857143,8.823529411764696 ,-8.558558558558559]\n",
    "mom_user_acquisition_rate_lst"
   ]
  },
  {
   "cell_type": "code",
   "execution_count": 29,
   "metadata": {},
   "outputs": [
    {
     "data": {
      "text/html": [
       "<div>\n",
       "<style scoped>\n",
       "    .dataframe tbody tr th:only-of-type {\n",
       "        vertical-align: middle;\n",
       "    }\n",
       "\n",
       "    .dataframe tbody tr th {\n",
       "        vertical-align: top;\n",
       "    }\n",
       "\n",
       "    .dataframe thead th {\n",
       "        text-align: right;\n",
       "    }\n",
       "</style>\n",
       "<table border=\"1\" class=\"dataframe\">\n",
       "  <thead>\n",
       "    <tr style=\"text-align: right;\">\n",
       "      <th></th>\n",
       "      <th>Months</th>\n",
       "      <th>No_of_users</th>\n",
       "      <th>MoM_acq_rate(%)</th>\n",
       "    </tr>\n",
       "  </thead>\n",
       "  <tbody>\n",
       "    <tr>\n",
       "      <th>0</th>\n",
       "      <td>dec</td>\n",
       "      <td>2424</td>\n",
       "      <td>0.000000</td>\n",
       "    </tr>\n",
       "    <tr>\n",
       "      <th>1</th>\n",
       "      <td>jan</td>\n",
       "      <td>1892</td>\n",
       "      <td>-21.947195</td>\n",
       "    </tr>\n",
       "    <tr>\n",
       "      <th>2</th>\n",
       "      <td>feb</td>\n",
       "      <td>1549</td>\n",
       "      <td>-18.128964</td>\n",
       "    </tr>\n",
       "    <tr>\n",
       "      <th>3</th>\n",
       "      <td>mar</td>\n",
       "      <td>1490</td>\n",
       "      <td>-3.808909</td>\n",
       "    </tr>\n",
       "    <tr>\n",
       "      <th>4</th>\n",
       "      <td>apr</td>\n",
       "      <td>1346</td>\n",
       "      <td>-9.664430</td>\n",
       "    </tr>\n",
       "    <tr>\n",
       "      <th>5</th>\n",
       "      <td>may</td>\n",
       "      <td>1264</td>\n",
       "      <td>-6.092125</td>\n",
       "    </tr>\n",
       "    <tr>\n",
       "      <th>6</th>\n",
       "      <td>jun</td>\n",
       "      <td>1273</td>\n",
       "      <td>0.712025</td>\n",
       "    </tr>\n",
       "    <tr>\n",
       "      <th>7</th>\n",
       "      <td>jul</td>\n",
       "      <td>1208</td>\n",
       "      <td>-5.106049</td>\n",
       "    </tr>\n",
       "    <tr>\n",
       "      <th>8</th>\n",
       "      <td>aug</td>\n",
       "      <td>1120</td>\n",
       "      <td>-7.284768</td>\n",
       "    </tr>\n",
       "    <tr>\n",
       "      <th>9</th>\n",
       "      <td>spt</td>\n",
       "      <td>1020</td>\n",
       "      <td>-8.928571</td>\n",
       "    </tr>\n",
       "    <tr>\n",
       "      <th>10</th>\n",
       "      <td>otb</td>\n",
       "      <td>1110</td>\n",
       "      <td>8.823529</td>\n",
       "    </tr>\n",
       "    <tr>\n",
       "      <th>11</th>\n",
       "      <td>nov</td>\n",
       "      <td>1015</td>\n",
       "      <td>-8.558559</td>\n",
       "    </tr>\n",
       "  </tbody>\n",
       "</table>\n",
       "</div>"
      ],
      "text/plain": [
       "   Months  No_of_users  MoM_acq_rate(%)\n",
       "0     dec         2424         0.000000\n",
       "1     jan         1892       -21.947195\n",
       "2     feb         1549       -18.128964\n",
       "3     mar         1490        -3.808909\n",
       "4     apr         1346        -9.664430\n",
       "5     may         1264        -6.092125\n",
       "6     jun         1273         0.712025\n",
       "7     jul         1208        -5.106049\n",
       "8     aug         1120        -7.284768\n",
       "9     spt         1020        -8.928571\n",
       "10    otb         1110         8.823529\n",
       "11    nov         1015        -8.558559"
      ]
     },
     "execution_count": 29,
     "metadata": {},
     "output_type": "execute_result"
    }
   ],
   "source": [
    "#creating a dictionary of values for 'Months', 'Number_of_users', 'Month_on_Month_use_acquisition_rate'\n",
    "dict = {'Months': Monthss, 'No_of_users': Number_of_users, 'MoM_acq_rate(%)': mom_user_acquisition_rate_lst} \n",
    "\n",
    "#creating a dataframe to display Month_on_Month_use_acquisition_rate\n",
    "acqr = pd.DataFrame(dict)\n",
    "acqr"
   ]
  },
  {
   "cell_type": "code",
   "execution_count": 31,
   "metadata": {},
   "outputs": [
    {
     "data": {
      "image/png": "[encoded data removed]",
      "text/plain": [
       "<Figure size 1152x864 with 1 Axes>"
      ]
     },
     "metadata": {
      "needs_background": "light"
     },
     "output_type": "display_data"
    }
   ],
   "source": [
    "#plotting a bar graph for month on month User acquisition rate\n",
    "Plot_Months=acqr['Months']\n",
    "Plot_Number_of_users=acqr['No_of_users']\n",
    "Plot_Month_on_Month=acqr['MoM_acq_rate(%)']\n",
    "plt.rcParams[\"figure.figsize\"] = (16, 12)\n",
    "plt.bar(Plot_Months, Plot_Number_of_users, color ='blue',\n",
    "        width = 0.4)\n",
    "plt.grid(color='black', linewidth=0.1, axis='both', alpha=0.9)\n",
    "\n",
    "#plt.xticks([1,2,3,4,5,6,7,8,9,10,11,12,13,14,15,16,17,18,19,20,21,22,23,24,25,26,27,28,29,30,31,32,33,34,35,36,37,38,39,40,41,42,43,44,45,46,47,48,49,50,51,52,53,54,55,56],color='black', rotation=60)\n",
    "plt.yticks([100,200,300,400,500,600,700,800,900,1000,1100,1200,1300,1400,1500,1600,1700,1800,1900,2000,2100,2200,2300,2400],color='black')\n",
    "\n",
    "plt.xlabel(\"Months\")\n",
    "plt.ylabel(\"Number_of_users\")\n",
    "plt.title(\"Number_of_users v/s Months\")\n",
    "plt.show()"
   ]
  },
  {
   "cell_type": "code",
   "execution_count": 32,
   "metadata": {
    "scrolled": false
   },
   "outputs": [
    {
     "data": {
      "image/png": "[encoded data removed]",
      "text/plain": [
       "<Figure size 1080x720 with 1 Axes>"
      ]
     },
     "metadata": {
      "needs_background": "light"
     },
     "output_type": "display_data"
    }
   ],
   "source": [
    "#plotting a line chart for month on month User acquisition rate\n",
    "plt.rcParams[\"figure.figsize\"] = (15, 10)\n",
    "plt.plot(Plot_Months, Plot_Month_on_Month, marker='o', linewidth=1.7,mfc='red')\n",
    "plt.grid(color='black', linewidth=0.3, axis='both', alpha=1)\n",
    "plt.xlabel(\"Months\") \n",
    "plt.ylabel(\"MoM User acq rate(%)\")  \n",
    "plt.title(\"Month on Month User acquisition rate (%)\")  \n",
    "plt.show()"
   ]
  },
  {
   "cell_type": "markdown",
   "metadata": {},
   "source": []
  },
  {
   "cell_type": "markdown",
   "metadata": {},
   "source": []
  },
  {
   "cell_type": "markdown",
   "metadata": {},
   "source": [
    "# SOLUTION FOR QUESTION-2 ##################"
   ]
  },
  {
   "cell_type": "markdown",
   "metadata": {},
   "source": [
    "#### QUESTION-2: What is the month on month repeat rate?"
   ]
  },
  {
   "cell_type": "markdown",
   "metadata": {},
   "source": [
    "###### "
   ]
  },
  {
   "cell_type": "code",
   "execution_count": 34,
   "metadata": {},
   "outputs": [
    {
     "data": {
      "text/html": [
       "<div>\n",
       "<style scoped>\n",
       "    .dataframe tbody tr th:only-of-type {\n",
       "        vertical-align: middle;\n",
       "    }\n",
       "\n",
       "    .dataframe tbody tr th {\n",
       "        vertical-align: top;\n",
       "    }\n",
       "\n",
       "    .dataframe thead th {\n",
       "        text-align: right;\n",
       "    }\n",
       "</style>\n",
       "<table border=\"1\" class=\"dataframe\">\n",
       "  <thead>\n",
       "    <tr style=\"text-align: right;\">\n",
       "      <th></th>\n",
       "      <th>Transaction_ID</th>\n",
       "      <th>Profile ID</th>\n",
       "      <th>Date_of_Booking</th>\n",
       "      <th>Date_of_Service_Requested</th>\n",
       "      <th>Source</th>\n",
       "      <th>Slot of Booking (Hour of the Day)</th>\n",
       "    </tr>\n",
       "  </thead>\n",
       "  <tbody>\n",
       "    <tr>\n",
       "      <th>0</th>\n",
       "      <td>BBCHH</td>\n",
       "      <td>1</td>\n",
       "      <td>2018-05-20</td>\n",
       "      <td>2018-05-21</td>\n",
       "      <td>D</td>\n",
       "      <td>14</td>\n",
       "    </tr>\n",
       "    <tr>\n",
       "      <th>1</th>\n",
       "      <td>CHWFD</td>\n",
       "      <td>1</td>\n",
       "      <td>2018-09-23</td>\n",
       "      <td>2018-09-23</td>\n",
       "      <td>C</td>\n",
       "      <td>8</td>\n",
       "    </tr>\n",
       "    <tr>\n",
       "      <th>2</th>\n",
       "      <td>DYDMF</td>\n",
       "      <td>2</td>\n",
       "      <td>2018-11-10</td>\n",
       "      <td>2018-11-13</td>\n",
       "      <td>C</td>\n",
       "      <td>11</td>\n",
       "    </tr>\n",
       "    <tr>\n",
       "      <th>3</th>\n",
       "      <td>EZYSA</td>\n",
       "      <td>3</td>\n",
       "      <td>2018-04-12</td>\n",
       "      <td>2018-04-16</td>\n",
       "      <td>B</td>\n",
       "      <td>8</td>\n",
       "    </tr>\n",
       "    <tr>\n",
       "      <th>4</th>\n",
       "      <td>HWAKX</td>\n",
       "      <td>3</td>\n",
       "      <td>2018-08-05</td>\n",
       "      <td>2018-08-06</td>\n",
       "      <td>B</td>\n",
       "      <td>11</td>\n",
       "    </tr>\n",
       "  </tbody>\n",
       "</table>\n",
       "</div>"
      ],
      "text/plain": [
       "  Transaction_ID  Profile ID Date_of_Booking Date_of_Service_Requested Source  \\\n",
       "0          BBCHH           1      2018-05-20                2018-05-21      D   \n",
       "1          CHWFD           1      2018-09-23                2018-09-23      C   \n",
       "2          DYDMF           2      2018-11-10                2018-11-13      C   \n",
       "3          EZYSA           3      2018-04-12                2018-04-16      B   \n",
       "4          HWAKX           3      2018-08-05                2018-08-06      B   \n",
       "\n",
       "   Slot of Booking (Hour of the Day)  \n",
       "0                                 14  \n",
       "1                                  8  \n",
       "2                                 11  \n",
       "3                                  8  \n",
       "4                                 11  "
      ]
     },
     "execution_count": 34,
     "metadata": {},
     "output_type": "execute_result"
    }
   ],
   "source": [
    "#creating a copy of the original dataframe\n",
    "df_copy=df\n",
    "df_copy.head()"
   ]
  },
  {
   "cell_type": "code",
   "execution_count": 35,
   "metadata": {},
   "outputs": [
    {
     "data": {
      "text/plain": [
       "0       2018-05-20\n",
       "1       2018-09-23\n",
       "2       2018-11-10\n",
       "3       2018-04-12\n",
       "4       2018-08-05\n",
       "           ...    \n",
       "30935   2018-09-29\n",
       "30936   2018-03-12\n",
       "30937   2018-01-05\n",
       "30938   2018-02-26\n",
       "30939   2018-04-30\n",
       "Name: Date_of_Booking, Length: 30940, dtype: datetime64[ns]"
      ]
     },
     "execution_count": 35,
     "metadata": {},
     "output_type": "execute_result"
    }
   ],
   "source": [
    "#converting 'Date_of_Booking' column to readable date format for dataframe with duplicate 'Profile ID'\n",
    "Date_for_df_copy = pd.to_datetime(df_copy['Date_of_Booking'], format='%Y-%m-%d')\n",
    "Date_for_df_copy"
   ]
  },
  {
   "cell_type": "code",
   "execution_count": 36,
   "metadata": {},
   "outputs": [
    {
     "data": {
      "text/plain": [
       "0              May\n",
       "1        September\n",
       "2         November\n",
       "3            April\n",
       "4           August\n",
       "           ...    \n",
       "30935    September\n",
       "30936        March\n",
       "30937      January\n",
       "30938     February\n",
       "30939        April\n",
       "Name: Date_of_Booking, Length: 30940, dtype: object"
      ]
     },
     "execution_count": 36,
     "metadata": {},
     "output_type": "execute_result"
    }
   ],
   "source": [
    "#extracting month name from date format for dataframe with duplicate 'Profile ID'\n",
    "month_for_df_copy= Date_for_df_copy.dt.month_name(locale='English')\n",
    "month_for_df_copy"
   ]
  },
  {
   "cell_type": "code",
   "execution_count": 37,
   "metadata": {},
   "outputs": [
    {
     "data": {
      "text/plain": [
       "(30940,)"
      ]
     },
     "execution_count": 37,
     "metadata": {},
     "output_type": "execute_result"
    }
   ],
   "source": [
    "month_for_df_copy.shape"
   ]
  },
  {
   "cell_type": "code",
   "execution_count": 38,
   "metadata": {},
   "outputs": [
    {
     "data": {
      "text/html": [
       "<div>\n",
       "<style scoped>\n",
       "    .dataframe tbody tr th:only-of-type {\n",
       "        vertical-align: middle;\n",
       "    }\n",
       "\n",
       "    .dataframe tbody tr th {\n",
       "        vertical-align: top;\n",
       "    }\n",
       "\n",
       "    .dataframe thead th {\n",
       "        text-align: right;\n",
       "    }\n",
       "</style>\n",
       "<table border=\"1\" class=\"dataframe\">\n",
       "  <thead>\n",
       "    <tr style=\"text-align: right;\">\n",
       "      <th></th>\n",
       "      <th>Transaction_ID</th>\n",
       "      <th>Profile ID</th>\n",
       "      <th>Date_of_Booking</th>\n",
       "      <th>Date_of_Booking_month_name</th>\n",
       "      <th>Date_of_Service_Requested</th>\n",
       "      <th>Source</th>\n",
       "      <th>Slot of Booking (Hour of the Day)</th>\n",
       "    </tr>\n",
       "  </thead>\n",
       "  <tbody>\n",
       "    <tr>\n",
       "      <th>0</th>\n",
       "      <td>BBCHH</td>\n",
       "      <td>1</td>\n",
       "      <td>2018-05-20</td>\n",
       "      <td>May</td>\n",
       "      <td>2018-05-21</td>\n",
       "      <td>D</td>\n",
       "      <td>14</td>\n",
       "    </tr>\n",
       "    <tr>\n",
       "      <th>1</th>\n",
       "      <td>CHWFD</td>\n",
       "      <td>1</td>\n",
       "      <td>2018-09-23</td>\n",
       "      <td>September</td>\n",
       "      <td>2018-09-23</td>\n",
       "      <td>C</td>\n",
       "      <td>8</td>\n",
       "    </tr>\n",
       "    <tr>\n",
       "      <th>2</th>\n",
       "      <td>DYDMF</td>\n",
       "      <td>2</td>\n",
       "      <td>2018-11-10</td>\n",
       "      <td>November</td>\n",
       "      <td>2018-11-13</td>\n",
       "      <td>C</td>\n",
       "      <td>11</td>\n",
       "    </tr>\n",
       "    <tr>\n",
       "      <th>3</th>\n",
       "      <td>EZYSA</td>\n",
       "      <td>3</td>\n",
       "      <td>2018-04-12</td>\n",
       "      <td>April</td>\n",
       "      <td>2018-04-16</td>\n",
       "      <td>B</td>\n",
       "      <td>8</td>\n",
       "    </tr>\n",
       "    <tr>\n",
       "      <th>4</th>\n",
       "      <td>HWAKX</td>\n",
       "      <td>3</td>\n",
       "      <td>2018-08-05</td>\n",
       "      <td>August</td>\n",
       "      <td>2018-08-06</td>\n",
       "      <td>B</td>\n",
       "      <td>11</td>\n",
       "    </tr>\n",
       "  </tbody>\n",
       "</table>\n",
       "</div>"
      ],
      "text/plain": [
       "  Transaction_ID  Profile ID Date_of_Booking Date_of_Booking_month_name  \\\n",
       "0          BBCHH           1      2018-05-20                        May   \n",
       "1          CHWFD           1      2018-09-23                  September   \n",
       "2          DYDMF           2      2018-11-10                   November   \n",
       "3          EZYSA           3      2018-04-12                      April   \n",
       "4          HWAKX           3      2018-08-05                     August   \n",
       "\n",
       "  Date_of_Service_Requested Source  Slot of Booking (Hour of the Day)  \n",
       "0                2018-05-21      D                                 14  \n",
       "1                2018-09-23      C                                  8  \n",
       "2                2018-11-13      C                                 11  \n",
       "3                2018-04-16      B                                  8  \n",
       "4                2018-08-06      B                                 11  "
      ]
     },
     "execution_count": 38,
     "metadata": {},
     "output_type": "execute_result"
    }
   ],
   "source": [
    "#inserting the 'Date_of_Booking_month_name' column into dataframe with duplicate 'Profile ID' as 4th column\n",
    "df_copy.insert(3, \"Date_of_Booking_month_name\", month_for_df_copy)\n",
    "df_copy.head()"
   ]
  },
  {
   "cell_type": "code",
   "execution_count": 39,
   "metadata": {},
   "outputs": [
    {
     "name": "stdout",
     "output_type": "stream",
     "text": [
      "2761 2675 2403 2600 2483 2510 2571 2616 2556 2508 2680 2577\n"
     ]
    }
   ],
   "source": [
    "#extracing the count of months from dataframe with duplicate 'Profile ID'\n",
    "dec_for_df_copy=df_copy.Date_of_Booking_month_name.value_counts().December\n",
    "jan_for_df_copy=df_copy.Date_of_Booking_month_name.value_counts().January\n",
    "feb_for_df_copy=df_copy.Date_of_Booking_month_name.value_counts().February\n",
    "mar_for_df_copy=df_copy.Date_of_Booking_month_name.value_counts().March\n",
    "apr_for_df_copy=df_copy.Date_of_Booking_month_name.value_counts().April\n",
    "may_for_df_copy=df_copy.Date_of_Booking_month_name.value_counts().May\n",
    "jun_for_df_copy=df_copy.Date_of_Booking_month_name.value_counts().June\n",
    "jul_for_df_copy=df_copy.Date_of_Booking_month_name.value_counts().July\n",
    "aug_for_df_copy=df_copy.Date_of_Booking_month_name.value_counts().August\n",
    "spt_for_df_copy=df_copy.Date_of_Booking_month_name.value_counts().September\n",
    "otb_for_df_copy=df_copy.Date_of_Booking_month_name.value_counts().October\n",
    "nov_for_df_copy=df_copy.Date_of_Booking_month_name.value_counts().November\n",
    "print(dec_for_df_copy,jan_for_df_copy,feb_for_df_copy,mar_for_df_copy,apr_for_df_copy,may_for_df_copy,jun_for_df_copy,jul_for_df_copy,aug_for_df_copy,spt_for_df_copy,otb_for_df_copy,nov_for_df_copy)"
   ]
  },
  {
   "cell_type": "code",
   "execution_count": 40,
   "metadata": {},
   "outputs": [
    {
     "data": {
      "text/plain": [
       "14229"
      ]
     },
     "execution_count": 40,
     "metadata": {},
     "output_type": "execute_result"
    }
   ],
   "source": [
    "df_copy.duplicated(subset='Profile ID', keep='first').sum()"
   ]
  },
  {
   "cell_type": "code",
   "execution_count": 41,
   "metadata": {},
   "outputs": [
    {
     "name": "stdout",
     "output_type": "stream",
     "text": [
      "2761 583 337 246 2424\n",
      "2675 601 351 250 2324\n",
      "2403 505 288 217 2115\n",
      "2600 609 352 257 2248\n",
      "2483 507 295 212 2188\n",
      "2510 564 321 243 2189\n",
      "2571 568 330 238 2241\n",
      "2616 558 326 232 2290\n",
      "2556 567 328 239 2228\n",
      "2508 528 308 220 2200\n",
      "2680 567 328 239 2352\n",
      "2577 523 301 222 2276\n"
     ]
    }
   ],
   "source": [
    "#getting the total transactions, count of bookings of repeat customers , unique customers, repeat customers, Total  customers for that month without repeated bookings\n",
    "\n",
    "unique_cust_df_dec=df_copy[df_copy['Date_of_Booking_month_name']=='December']\n",
    "repeated_customers_dec=unique_cust_df_dec.duplicated(subset='Profile ID', keep=False).sum()\n",
    "duplicate_repeated_customers_dec=unique_cust_df_dec.duplicated(subset='Profile ID', keep='first').sum()\n",
    "unique_customers_repeated_dec=repeated_customers_dec-duplicate_repeated_customers_dec\n",
    "Total_transcations_dec=unique_cust_df_dec['Profile ID'].count()\n",
    "Total_customers_without_repetitions_for_dec=Total_transcations_dec-repeated_customers_dec+unique_customers_repeated_dec\n",
    "print(Total_transcations_dec,repeated_customers_dec,duplicate_repeated_customers_dec,unique_customers_repeated_dec,Total_customers_without_repetitions_for_dec)\n",
    "\n",
    "unique_cust_df_jan=df_copy[df_copy['Date_of_Booking_month_name']=='January']\n",
    "repeated_customers_jan=unique_cust_df_jan.duplicated(subset='Profile ID', keep=False).sum()\n",
    "duplicate_repeated_customers_jan=unique_cust_df_jan.duplicated(subset='Profile ID', keep='first').sum()\n",
    "unique_customers_repeated_jan=repeated_customers_jan-duplicate_repeated_customers_jan\n",
    "Total_transcations_jan=unique_cust_df_jan['Profile ID'].count()\n",
    "Total_customers_without_repetitions_for_jan=Total_transcations_jan-repeated_customers_jan+unique_customers_repeated_jan\n",
    "print(Total_transcations_jan,repeated_customers_jan,duplicate_repeated_customers_jan,unique_customers_repeated_jan,Total_customers_without_repetitions_for_jan)\n",
    "\n",
    "unique_cust_df_feb=df_copy[df_copy['Date_of_Booking_month_name']=='February']\n",
    "repeated_customers_feb=unique_cust_df_feb.duplicated(subset='Profile ID', keep=False).sum()\n",
    "duplicate_repeated_customers_feb=unique_cust_df_feb.duplicated(subset='Profile ID', keep='first').sum()\n",
    "unique_customers_repeated_feb=repeated_customers_feb-duplicate_repeated_customers_feb\n",
    "Total_transcations_feb=unique_cust_df_feb['Profile ID'].count()\n",
    "Total_customers_without_repetitions_for_feb=Total_transcations_feb-repeated_customers_feb+unique_customers_repeated_feb\n",
    "print(Total_transcations_feb,repeated_customers_feb,duplicate_repeated_customers_feb,unique_customers_repeated_feb,Total_customers_without_repetitions_for_feb)\n",
    "\n",
    "unique_cust_df_mar=df_copy[df_copy['Date_of_Booking_month_name']=='March']\n",
    "repeated_customers_mar=unique_cust_df_mar.duplicated(subset='Profile ID', keep=False).sum()\n",
    "duplicate_repeated_customers_mar=unique_cust_df_mar.duplicated(subset='Profile ID', keep='first').sum()\n",
    "unique_customers_repeated_mar=repeated_customers_mar-duplicate_repeated_customers_mar\n",
    "Total_transcations_mar=unique_cust_df_mar['Profile ID'].count()\n",
    "Total_customers_without_repetitions_for_mar=Total_transcations_mar-repeated_customers_mar+unique_customers_repeated_mar\n",
    "print(Total_transcations_mar,repeated_customers_mar,duplicate_repeated_customers_mar,unique_customers_repeated_mar,Total_customers_without_repetitions_for_mar)\n",
    "\n",
    "unique_cust_df_apr=df_copy[df_copy['Date_of_Booking_month_name']=='April']\n",
    "repeated_customers_apr=unique_cust_df_apr.duplicated(subset='Profile ID', keep=False).sum()\n",
    "duplicate_repeated_customers_apr=unique_cust_df_apr.duplicated(subset='Profile ID', keep='first').sum()\n",
    "unique_customers_repeated_apr=repeated_customers_apr-duplicate_repeated_customers_apr\n",
    "Total_transcations_apr=unique_cust_df_apr['Profile ID'].count()\n",
    "Total_customers_without_repetitions_for_apr=Total_transcations_apr-repeated_customers_apr+unique_customers_repeated_apr\n",
    "print(Total_transcations_apr,repeated_customers_apr,duplicate_repeated_customers_apr,unique_customers_repeated_apr,Total_customers_without_repetitions_for_apr)\n",
    "\n",
    "unique_cust_df_may=df_copy[df_copy['Date_of_Booking_month_name']=='May']\n",
    "repeated_customers_may=unique_cust_df_may.duplicated(subset='Profile ID', keep=False).sum()\n",
    "duplicate_repeated_customers_may=unique_cust_df_may.duplicated(subset='Profile ID', keep='first').sum()\n",
    "unique_customers_repeated_may=repeated_customers_may-duplicate_repeated_customers_may\n",
    "Total_transcations_may=unique_cust_df_may['Profile ID'].count()\n",
    "Total_customers_without_repetitions_for_may=Total_transcations_may-repeated_customers_may+unique_customers_repeated_may\n",
    "print(Total_transcations_may,repeated_customers_may,duplicate_repeated_customers_may,unique_customers_repeated_may,Total_customers_without_repetitions_for_may)\n",
    "\n",
    "unique_cust_df_jun=df_copy[df_copy['Date_of_Booking_month_name']=='June']\n",
    "repeated_customers_jun=unique_cust_df_jun.duplicated(subset='Profile ID', keep=False).sum()\n",
    "duplicate_repeated_customers_jun=unique_cust_df_jun.duplicated(subset='Profile ID', keep='first').sum()\n",
    "unique_customers_repeated_jun=repeated_customers_jun-duplicate_repeated_customers_jun\n",
    "Total_transcations_jun=unique_cust_df_jun['Profile ID'].count()\n",
    "Total_customers_without_repetitions_for_jun=Total_transcations_jun-repeated_customers_jun+unique_customers_repeated_jun\n",
    "print(Total_transcations_jun,repeated_customers_jun,duplicate_repeated_customers_jun,unique_customers_repeated_jun,Total_customers_without_repetitions_for_jun)\n",
    "\n",
    "unique_cust_df_jul=df_copy[df_copy['Date_of_Booking_month_name']=='July']\n",
    "repeated_customers_jul=unique_cust_df_jul.duplicated(subset='Profile ID', keep=False).sum()\n",
    "duplicate_repeated_customers_jul=unique_cust_df_jul.duplicated(subset='Profile ID', keep='first').sum()\n",
    "unique_customers_repeated_jul=repeated_customers_jul-duplicate_repeated_customers_jul\n",
    "Total_transcations_jul=unique_cust_df_jul['Profile ID'].count()\n",
    "Total_customers_without_repetitions_for_jul=Total_transcations_jul-repeated_customers_jul+unique_customers_repeated_jul\n",
    "print(Total_transcations_jul,repeated_customers_jul,duplicate_repeated_customers_jul,unique_customers_repeated_jul,Total_customers_without_repetitions_for_jul)\n",
    "\n",
    "unique_cust_df_aug=df_copy[df_copy['Date_of_Booking_month_name']=='August']\n",
    "repeated_customers_aug=unique_cust_df_aug.duplicated(subset='Profile ID', keep=False).sum()\n",
    "duplicate_repeated_customers_aug=unique_cust_df_aug.duplicated(subset='Profile ID', keep='first').sum()\n",
    "unique_customers_repeated_aug=repeated_customers_aug-duplicate_repeated_customers_aug\n",
    "Total_transcations_aug=unique_cust_df_aug['Profile ID'].count()\n",
    "Total_customers_without_repetitions_for_aug=Total_transcations_aug-repeated_customers_aug+unique_customers_repeated_aug\n",
    "print(Total_transcations_aug,repeated_customers_aug,duplicate_repeated_customers_aug,unique_customers_repeated_aug,Total_customers_without_repetitions_for_aug)\n",
    "\n",
    "unique_cust_df_spt=df_copy[df_copy['Date_of_Booking_month_name']=='September']\n",
    "repeated_customers_spt=unique_cust_df_spt.duplicated(subset='Profile ID', keep=False).sum()\n",
    "duplicate_repeated_customers_spt=unique_cust_df_spt.duplicated(subset='Profile ID', keep='first').sum()\n",
    "unique_customers_repeated_spt=repeated_customers_spt-duplicate_repeated_customers_spt\n",
    "Total_transcations_spt=unique_cust_df_spt['Profile ID'].count()\n",
    "Total_customers_without_repetitions_for_spt=Total_transcations_spt-repeated_customers_spt+unique_customers_repeated_spt\n",
    "print(Total_transcations_spt,repeated_customers_spt,duplicate_repeated_customers_spt,unique_customers_repeated_spt,Total_customers_without_repetitions_for_spt)\n",
    "\n",
    "unique_cust_df_oct=df_copy[df_copy['Date_of_Booking_month_name']=='October']\n",
    "repeated_customers_oct=unique_cust_df_oct.duplicated(subset='Profile ID', keep=False).sum()\n",
    "duplicate_repeated_customers_oct=unique_cust_df_oct.duplicated(subset='Profile ID', keep='first').sum()\n",
    "unique_customers_repeated_oct=repeated_customers_oct-duplicate_repeated_customers_oct\n",
    "Total_transcations_oct=unique_cust_df_oct['Profile ID'].count()\n",
    "Total_customers_without_repetitions_for_oct=Total_transcations_oct-repeated_customers_oct+unique_customers_repeated_oct\n",
    "print(Total_transcations_oct,repeated_customers_oct,duplicate_repeated_customers_oct,unique_customers_repeated_oct,Total_customers_without_repetitions_for_oct)\n",
    "\n",
    "unique_cust_df_nov=df_copy[df_copy['Date_of_Booking_month_name']=='November']\n",
    "repeated_customers_nov=unique_cust_df_nov.duplicated(subset='Profile ID', keep=False).sum()\n",
    "duplicate_repeated_customers_nov=unique_cust_df_nov.duplicated(subset='Profile ID', keep='first').sum()\n",
    "unique_customers_repeated_nov=repeated_customers_nov-duplicate_repeated_customers_nov\n",
    "Total_transcations_nov=unique_cust_df_nov['Profile ID'].count()\n",
    "Total_customers_without_repetitions_for_nov=Total_transcations_nov-repeated_customers_nov+unique_customers_repeated_nov\n",
    "print(Total_transcations_nov,repeated_customers_nov,duplicate_repeated_customers_nov,unique_customers_repeated_nov,Total_customers_without_repetitions_for_nov)"
   ]
  },
  {
   "cell_type": "code",
   "execution_count": 42,
   "metadata": {},
   "outputs": [],
   "source": [
    "#creating the list of unique_customers_repeated, total_cust_without_repeat_transaction\n",
    "unique_customers_repeated=[246,250,217,257,212,243,238,232,239,220,239,222]\n",
    "total_cust_without_repeat_transaction=[2424,2324,2115,2248,2188,2189,2241,2290,2228,2200,2352,2276]"
   ]
  },
  {
   "cell_type": "code",
   "execution_count": 43,
   "metadata": {},
   "outputs": [
    {
     "name": "stdout",
     "output_type": "stream",
     "text": [
      "10.14851485148515\n",
      "10.757314974182444\n",
      "10.260047281323876\n",
      "11.432384341637011\n",
      "9.689213893967093\n",
      "11.100959342165373\n",
      "10.620258813029897\n",
      "10.131004366812228\n",
      "10.727109515260324\n",
      "10.0\n",
      "10.16156462585034\n",
      "9.753954305799649\n"
     ]
    }
   ],
   "source": [
    "#Calculating Monthly repeat rate of Customers\n",
    "length_unique_customers_repeated=len(unique_customers_repeated)\n",
    "length_total_cust_without_repeat_transaction=len(total_cust_without_repeat_transaction)\n",
    "i=0\n",
    "\n",
    "for i in range(length_unique_customers_repeated):\n",
    "    Month_Repeat_rate=(((unique_customers_repeated[i])/(total_cust_without_repeat_transaction[i]))*100)\n",
    "    print(Month_Repeat_rate)"
   ]
  },
  {
   "cell_type": "code",
   "execution_count": 44,
   "metadata": {},
   "outputs": [],
   "source": [
    "#creating a list of Monthly repeat rate \n",
    "Month_Repeat_rate_lst=[10.14851485148515,10.757314974182444,10.260047281323876,11.432384341637011,9.689213893967093,11.100959342165373,10.620258813029897,10.131004366812228,10.727109515260324,10.0,10.16156462585034,9.753954305799649]\n",
    "#creating a list ]"
   ]
  },
  {
   "cell_type": "code",
   "execution_count": 45,
   "metadata": {},
   "outputs": [
    {
     "name": "stdout",
     "output_type": "stream",
     "text": [
      "5.9989085260904185\n",
      "-4.622600472813243\n",
      "11.426234481853825\n",
      "-15.247654343820916\n",
      "14.570278493669031\n",
      "-4.330261145175129\n",
      "-4.60680342005797\n",
      "5.883968922181637\n",
      "-6.7782426778242755\n",
      "1.6156462585034115\n",
      "-4.011294865101367\n"
     ]
    }
   ],
   "source": [
    "#Calculating Month-on-Month repeat rate \n",
    "Month_Repeat_rate_length=len(Month_Repeat_rate_lst)\n",
    "i=0\n",
    "for i in range(Month_Repeat_rate_length-1):\n",
    "    mom_Repeat_rate=(((Month_Repeat_rate_lst[i+1]/Month_Repeat_rate_lst[i])-1)*100)\n",
    "    print(mom_Repeat_rate)"
   ]
  },
  {
   "cell_type": "code",
   "execution_count": 46,
   "metadata": {},
   "outputs": [
    {
     "data": {
      "text/plain": [
       "[0,\n",
       " 5.9989085260904185,\n",
       " -4.622600472813243,\n",
       " 11.426234481853825,\n",
       " -15.247654343820926,\n",
       " 14.570278493669054,\n",
       " -4.330261145175118,\n",
       " -4.606803420057992,\n",
       " 5.883968922181637,\n",
       " -6.778242677824265,\n",
       " 1.6156462585033893,\n",
       " -4.011294865101367]"
      ]
     },
     "execution_count": 46,
     "metadata": {},
     "output_type": "execute_result"
    }
   ],
   "source": [
    "#Creating a list of Month-on-Month repeat rate \n",
    "mom_Repeat_rate_lst=[0,5.9989085260904185,-4.622600472813243,11.426234481853825,-15.247654343820926,14.570278493669054,-4.330261145175118,-4.606803420057992,5.883968922181637,-6.778242677824265,1.6156462585033893,-4.011294865101367]\n",
    "mom_Repeat_rate_lst"
   ]
  },
  {
   "cell_type": "code",
   "execution_count": 91,
   "metadata": {},
   "outputs": [],
   "source": [
    "#creating a dictionary of Months,unique_customers_repeated,total_cust_without_repeat_transaction,Monthly_Repeat_rate,Month_on_Month_Repeat_rate for dataframe creation\n",
    "second_question_df_dict = {'Months': Monthss, 'Repeat_Customers': unique_customers_repeated, 'Total_Customers_Without_Repeated_Bookings': total_cust_without_repeat_transaction, 'Monthly_Repeat_Rate (%)':Month_Repeat_rate_lst, 'Month_on_Month_Repeat_Rate (%)':mom_Repeat_rate_lst} "
   ]
  },
  {
   "cell_type": "code",
   "execution_count": 92,
   "metadata": {},
   "outputs": [
    {
     "data": {
      "text/html": [
       "<div>\n",
       "<style scoped>\n",
       "    .dataframe tbody tr th:only-of-type {\n",
       "        vertical-align: middle;\n",
       "    }\n",
       "\n",
       "    .dataframe tbody tr th {\n",
       "        vertical-align: top;\n",
       "    }\n",
       "\n",
       "    .dataframe thead th {\n",
       "        text-align: right;\n",
       "    }\n",
       "</style>\n",
       "<table border=\"1\" class=\"dataframe\">\n",
       "  <thead>\n",
       "    <tr style=\"text-align: right;\">\n",
       "      <th></th>\n",
       "      <th>Months</th>\n",
       "      <th>Repeat_Customers</th>\n",
       "      <th>Total_Customers_Without_Repeated_Bookings</th>\n",
       "      <th>Monthly_Repeat_Rate (%)</th>\n",
       "      <th>Month_on_Month_Repeat_Rate (%)</th>\n",
       "    </tr>\n",
       "  </thead>\n",
       "  <tbody>\n",
       "    <tr>\n",
       "      <th>0</th>\n",
       "      <td>dec</td>\n",
       "      <td>246</td>\n",
       "      <td>2424</td>\n",
       "      <td>10.148515</td>\n",
       "      <td>0.000000</td>\n",
       "    </tr>\n",
       "    <tr>\n",
       "      <th>1</th>\n",
       "      <td>jan</td>\n",
       "      <td>250</td>\n",
       "      <td>2324</td>\n",
       "      <td>10.757315</td>\n",
       "      <td>5.998909</td>\n",
       "    </tr>\n",
       "    <tr>\n",
       "      <th>2</th>\n",
       "      <td>feb</td>\n",
       "      <td>217</td>\n",
       "      <td>2115</td>\n",
       "      <td>10.260047</td>\n",
       "      <td>-4.622600</td>\n",
       "    </tr>\n",
       "    <tr>\n",
       "      <th>3</th>\n",
       "      <td>mar</td>\n",
       "      <td>257</td>\n",
       "      <td>2248</td>\n",
       "      <td>11.432384</td>\n",
       "      <td>11.426234</td>\n",
       "    </tr>\n",
       "    <tr>\n",
       "      <th>4</th>\n",
       "      <td>apr</td>\n",
       "      <td>212</td>\n",
       "      <td>2188</td>\n",
       "      <td>9.689214</td>\n",
       "      <td>-15.247654</td>\n",
       "    </tr>\n",
       "    <tr>\n",
       "      <th>5</th>\n",
       "      <td>may</td>\n",
       "      <td>243</td>\n",
       "      <td>2189</td>\n",
       "      <td>11.100959</td>\n",
       "      <td>14.570278</td>\n",
       "    </tr>\n",
       "    <tr>\n",
       "      <th>6</th>\n",
       "      <td>jun</td>\n",
       "      <td>238</td>\n",
       "      <td>2241</td>\n",
       "      <td>10.620259</td>\n",
       "      <td>-4.330261</td>\n",
       "    </tr>\n",
       "    <tr>\n",
       "      <th>7</th>\n",
       "      <td>jul</td>\n",
       "      <td>232</td>\n",
       "      <td>2290</td>\n",
       "      <td>10.131004</td>\n",
       "      <td>-4.606803</td>\n",
       "    </tr>\n",
       "    <tr>\n",
       "      <th>8</th>\n",
       "      <td>aug</td>\n",
       "      <td>239</td>\n",
       "      <td>2228</td>\n",
       "      <td>10.727110</td>\n",
       "      <td>5.883969</td>\n",
       "    </tr>\n",
       "    <tr>\n",
       "      <th>9</th>\n",
       "      <td>spt</td>\n",
       "      <td>220</td>\n",
       "      <td>2200</td>\n",
       "      <td>10.000000</td>\n",
       "      <td>-6.778243</td>\n",
       "    </tr>\n",
       "    <tr>\n",
       "      <th>10</th>\n",
       "      <td>otb</td>\n",
       "      <td>239</td>\n",
       "      <td>2352</td>\n",
       "      <td>10.161565</td>\n",
       "      <td>1.615646</td>\n",
       "    </tr>\n",
       "    <tr>\n",
       "      <th>11</th>\n",
       "      <td>nov</td>\n",
       "      <td>222</td>\n",
       "      <td>2276</td>\n",
       "      <td>9.753954</td>\n",
       "      <td>-4.011295</td>\n",
       "    </tr>\n",
       "  </tbody>\n",
       "</table>\n",
       "</div>"
      ],
      "text/plain": [
       "   Months  Repeat_Customers  Total_Customers_Without_Repeated_Bookings  \\\n",
       "0     dec               246                                       2424   \n",
       "1     jan               250                                       2324   \n",
       "2     feb               217                                       2115   \n",
       "3     mar               257                                       2248   \n",
       "4     apr               212                                       2188   \n",
       "5     may               243                                       2189   \n",
       "6     jun               238                                       2241   \n",
       "7     jul               232                                       2290   \n",
       "8     aug               239                                       2228   \n",
       "9     spt               220                                       2200   \n",
       "10    otb               239                                       2352   \n",
       "11    nov               222                                       2276   \n",
       "\n",
       "    Monthly_Repeat_Rate (%)  Month_on_Month_Repeat_Rate (%)  \n",
       "0                 10.148515                        0.000000  \n",
       "1                 10.757315                        5.998909  \n",
       "2                 10.260047                       -4.622600  \n",
       "3                 11.432384                       11.426234  \n",
       "4                  9.689214                      -15.247654  \n",
       "5                 11.100959                       14.570278  \n",
       "6                 10.620259                       -4.330261  \n",
       "7                 10.131004                       -4.606803  \n",
       "8                 10.727110                        5.883969  \n",
       "9                 10.000000                       -6.778243  \n",
       "10                10.161565                        1.615646  \n",
       "11                 9.753954                       -4.011295  "
      ]
     },
     "execution_count": 92,
     "metadata": {},
     "output_type": "execute_result"
    }
   ],
   "source": [
    "#Creating a dataframe to display Month on Month Repeat_rate\n",
    "second_question_df = pd.DataFrame(second_question_df_dict)\n",
    "second_question_df"
   ]
  },
  {
   "cell_type": "code",
   "execution_count": 49,
   "metadata": {},
   "outputs": [
    {
     "data": {
      "image/png": "[encoded data removed]",
      "text/plain": [
       "<Figure size 1080x720 with 1 Axes>"
      ]
     },
     "metadata": {
      "needs_background": "light"
     },
     "output_type": "display_data"
    }
   ],
   "source": [
    "#plotting a line chart for Month on Month Repeat_rate\n",
    "Plot_Months_second_question_df=second_question_df['Months']\n",
    "Plot_Month_on_Month_Repeat_rate_second_question_df=second_question_df['Month_on_Month_Repeat_Rate (%)']\n",
    "Plot_unique_customers_repeated_second_question_df=second_question_df['Repeat_Customers']\n",
    "Plot_total_cust_without_repeat_transaction_second_question_df=second_question_df['Total_Customers_Without_Repeated_Bookings']\n",
    "plt.rcParams[\"figure.figsize\"] = (15, 10)\n",
    "plt.plot(Plot_Months_second_question_df, Plot_Month_on_Month_Repeat_rate_second_question_df,marker='o', linewidth=1.7,mfc='red')\n",
    "plt.grid(color='black', linewidth=0.3, axis='both', alpha=1)\n",
    "plt.xlabel(\"Months\") \n",
    "plt.ylabel(\"MoM_Rep_rate (%)\")  \n",
    "plt.title(\"Month on Month Repeat rate (%)\")  \n",
    "plt.show()"
   ]
  },
  {
   "cell_type": "code",
   "execution_count": 50,
   "metadata": {},
   "outputs": [
    {
     "data": {
      "image/png": "[encoded data removed]",
      "text/plain": [
       "<Figure size 1152x864 with 1 Axes>"
      ]
     },
     "metadata": {
      "needs_background": "light"
     },
     "output_type": "display_data"
    }
   ],
   "source": [
    "#plotting a bar graph for unique customers with repeated bookings over consecutive months\n",
    "plt.rcParams[\"figure.figsize\"] = (16, 12)\n",
    "plt.bar(Plot_Months, Plot_unique_customers_repeated_second_question_df, color ='blue',\n",
    "        width = 0.4)\n",
    "plt.grid(color='black', linewidth=0.1, axis='both', alpha=0.9)\n",
    "#plt.xticks([1,2,3,4,5,6,7,8,9,10,11,12,13,14,15,16,17,18,19,20,21,22,23,24,25,26,27,28,29,30,31,32,33,34,35,36,37,38,39,40,41,42,43,44,45,46,47,48,49,50,51,52,53,54,55,56],color='black', rotation=60)\n",
    "plt.yticks([10,20,30,40,50,60,70,80,90,100,110,120,130,140,150,160,170,180,190,200,210,220,230,240,250,260],color='black')\n",
    "plt.xlabel(\"Months\")\n",
    "plt.ylabel(\"repeat_customers\")\n",
    "plt.title(\"Repeated Customers v/s Months\")\n",
    "plt.show()"
   ]
  },
  {
   "cell_type": "code",
   "execution_count": 51,
   "metadata": {},
   "outputs": [
    {
     "data": {
      "image/png": "[encoded data removed]",
      "text/plain": [
       "<Figure size 1152x864 with 1 Axes>"
      ]
     },
     "metadata": {
      "needs_background": "light"
     },
     "output_type": "display_data"
    }
   ],
   "source": [
    "#plotting a bar graph for total customers without repeated bookings over consecutive months\n",
    "plt.rcParams[\"figure.figsize\"] = (16, 12)\n",
    "plt.bar(Plot_Months, Plot_total_cust_without_repeat_transaction_second_question_df, color ='blue',\n",
    "        width = 0.4)\n",
    "plt.grid(color='black', linewidth=0.1, axis='both', alpha=0.9)\n",
    "\n",
    "#plt.xticks([1,2,3,4,5,6,7,8,9,10,11,12,13,14,15,16,17,18,19,20,21,22,23,24,25,26,27,28,29,30,31,32,33,34,35,36,37,38,39,40,41,42,43,44,45,46,47,48,49,50,51,52,53,54,55,56],color='black', rotation=60)\n",
    "#plt.yticks([100,200,300,400,500,600,700,800,900,1000,1100,1200,1300,1400,1500,1600,1700,1800,1900,2000,2100,2200,2300,2400],color='black')\n",
    "#plt.yticks([2110,2120,2130,2140,2150,2160,2170,2180,2190,2200,2210,2220,2230,2240,2250,2260,2270,2280,2290,2300,2310,2320,2330,2340,2350,2360,2370,2380,2390,2400,2410,2420,2430,2440,2450],color='black')\n",
    "plt.xlabel(\"Months\")\n",
    "plt.ylabel(\"total_cust_without_repeated_Bookings\")\n",
    "plt.title(\"Total Customers Without Repeated Bookings v/s Months\")\n",
    "plt.show()"
   ]
  },
  {
   "cell_type": "code",
   "execution_count": null,
   "metadata": {},
   "outputs": [],
   "source": [
    "unique_customers_repeated=[246,250,217,257,212,243,238,232,239,220,239,222]\n",
    "total_cust_without_repeat_transaction=[2424,2324,2115,2248,2188,2189,2241,2290,2228,2200,2352,2276]\n"
   ]
  },
  {
   "cell_type": "markdown",
   "metadata": {},
   "source": []
  },
  {
   "cell_type": "markdown",
   "metadata": {},
   "source": []
  },
  {
   "cell_type": "markdown",
   "metadata": {},
   "source": [
    "# SOLUTION FOR QUESTION-3 ##################"
   ]
  },
  {
   "cell_type": "markdown",
   "metadata": {},
   "source": [
    "#### QUESTION-3: Please define and measure the following repeat rates for each month\n",
    "#####                            30-Day repeat rate\n",
    "#####                            60-Day repeat rate\n",
    "#####                            90-Day repeat rate"
   ]
  },
  {
   "cell_type": "markdown",
   "metadata": {},
   "source": [
    "###### "
   ]
  },
  {
   "cell_type": "code",
   "execution_count": 112,
   "metadata": {},
   "outputs": [],
   "source": [
    "#creating a dictionary of Months_For_Thirty_Day_Repeat_Rate,Repeat_Rate_For_Every_Thirtydays,Thirty_Day_Repeat_Rate\n",
    "dict_for_thirty_day_repeat_rate = {'Months_For_Thirty_Day_Repeat_Rate': Monthss, 'Repeat_Rate_For_Thirtydays(%)':Month_Repeat_rate_lst, 'Relative_Thirty_Day_Repeat_Rate(%)':mom_Repeat_rate_lst} "
   ]
  },
  {
   "cell_type": "code",
   "execution_count": 113,
   "metadata": {},
   "outputs": [
    {
     "data": {
      "text/html": [
       "<div>\n",
       "<style scoped>\n",
       "    .dataframe tbody tr th:only-of-type {\n",
       "        vertical-align: middle;\n",
       "    }\n",
       "\n",
       "    .dataframe tbody tr th {\n",
       "        vertical-align: top;\n",
       "    }\n",
       "\n",
       "    .dataframe thead th {\n",
       "        text-align: right;\n",
       "    }\n",
       "</style>\n",
       "<table border=\"1\" class=\"dataframe\">\n",
       "  <thead>\n",
       "    <tr style=\"text-align: right;\">\n",
       "      <th></th>\n",
       "      <th>Months_For_Thirty_Day_Repeat_Rate</th>\n",
       "      <th>Repeat_Rate_For_Thirtydays(%)</th>\n",
       "      <th>Relative_Thirty_Day_Repeat_Rate(%)</th>\n",
       "    </tr>\n",
       "  </thead>\n",
       "  <tbody>\n",
       "    <tr>\n",
       "      <th>0</th>\n",
       "      <td>dec</td>\n",
       "      <td>10.148515</td>\n",
       "      <td>0.000000</td>\n",
       "    </tr>\n",
       "    <tr>\n",
       "      <th>1</th>\n",
       "      <td>jan</td>\n",
       "      <td>10.757315</td>\n",
       "      <td>5.998909</td>\n",
       "    </tr>\n",
       "    <tr>\n",
       "      <th>2</th>\n",
       "      <td>feb</td>\n",
       "      <td>10.260047</td>\n",
       "      <td>-4.622600</td>\n",
       "    </tr>\n",
       "    <tr>\n",
       "      <th>3</th>\n",
       "      <td>mar</td>\n",
       "      <td>11.432384</td>\n",
       "      <td>11.426234</td>\n",
       "    </tr>\n",
       "    <tr>\n",
       "      <th>4</th>\n",
       "      <td>apr</td>\n",
       "      <td>9.689214</td>\n",
       "      <td>-15.247654</td>\n",
       "    </tr>\n",
       "    <tr>\n",
       "      <th>5</th>\n",
       "      <td>may</td>\n",
       "      <td>11.100959</td>\n",
       "      <td>14.570278</td>\n",
       "    </tr>\n",
       "    <tr>\n",
       "      <th>6</th>\n",
       "      <td>jun</td>\n",
       "      <td>10.620259</td>\n",
       "      <td>-4.330261</td>\n",
       "    </tr>\n",
       "    <tr>\n",
       "      <th>7</th>\n",
       "      <td>jul</td>\n",
       "      <td>10.131004</td>\n",
       "      <td>-4.606803</td>\n",
       "    </tr>\n",
       "    <tr>\n",
       "      <th>8</th>\n",
       "      <td>aug</td>\n",
       "      <td>10.727110</td>\n",
       "      <td>5.883969</td>\n",
       "    </tr>\n",
       "    <tr>\n",
       "      <th>9</th>\n",
       "      <td>spt</td>\n",
       "      <td>10.000000</td>\n",
       "      <td>-6.778243</td>\n",
       "    </tr>\n",
       "    <tr>\n",
       "      <th>10</th>\n",
       "      <td>otb</td>\n",
       "      <td>10.161565</td>\n",
       "      <td>1.615646</td>\n",
       "    </tr>\n",
       "    <tr>\n",
       "      <th>11</th>\n",
       "      <td>nov</td>\n",
       "      <td>9.753954</td>\n",
       "      <td>-4.011295</td>\n",
       "    </tr>\n",
       "  </tbody>\n",
       "</table>\n",
       "</div>"
      ],
      "text/plain": [
       "   Months_For_Thirty_Day_Repeat_Rate  Repeat_Rate_For_Thirtydays(%)  \\\n",
       "0                                dec                      10.148515   \n",
       "1                                jan                      10.757315   \n",
       "2                                feb                      10.260047   \n",
       "3                                mar                      11.432384   \n",
       "4                                apr                       9.689214   \n",
       "5                                may                      11.100959   \n",
       "6                                jun                      10.620259   \n",
       "7                                jul                      10.131004   \n",
       "8                                aug                      10.727110   \n",
       "9                                spt                      10.000000   \n",
       "10                               otb                      10.161565   \n",
       "11                               nov                       9.753954   \n",
       "\n",
       "    Relative_Thirty_Day_Repeat_Rate(%)  \n",
       "0                             0.000000  \n",
       "1                             5.998909  \n",
       "2                            -4.622600  \n",
       "3                            11.426234  \n",
       "4                           -15.247654  \n",
       "5                            14.570278  \n",
       "6                            -4.330261  \n",
       "7                            -4.606803  \n",
       "8                             5.883969  \n",
       "9                            -6.778243  \n",
       "10                            1.615646  \n",
       "11                           -4.011295  "
      ]
     },
     "execution_count": 113,
     "metadata": {},
     "output_type": "execute_result"
    }
   ],
   "source": [
    "#Creating a dataframe to display Thirty Day Repeat Rate\n",
    "thirtyday_df= pd.DataFrame(dict_for_thirty_day_repeat_rate)\n",
    "thirtyday_df"
   ]
  },
  {
   "cell_type": "code",
   "execution_count": 114,
   "metadata": {},
   "outputs": [
    {
     "data": {
      "image/png": "[encoded data removed]",
      "text/plain": [
       "<Figure size 1080x720 with 1 Axes>"
      ]
     },
     "metadata": {},
     "output_type": "display_data"
    }
   ],
   "source": [
    "#plotting a line chart for Relative Thirty Day Repeat Rate(%)\n",
    "Plot_Months_for_thirty_day_repeat_rate_thirtyday_df=thirtyday_df['Months_For_Thirty_Day_Repeat_Rate']\n",
    "Plot_thirtyday_repeat_rate_percent_thirtyday_df=thirtyday_df['Repeat_Rate_For_Thirtydays(%)']\n",
    "Plot_thirtyday_repeat_rate_thirtyday_df=thirtyday_df['Relative_Thirty_Day_Repeat_Rate(%)']\n",
    "\n",
    "plt.rcParams[\"figure.figsize\"] = (15, 10)\n",
    "plt.plot(Plot_Months_for_thirty_day_repeat_rate_thirtyday_df, Plot_thirtyday_repeat_rate_percent_thirtyday_df,marker='o', linewidth=1.7,mfc='red')\n",
    "plt.grid(color='black', linewidth=0.3, axis='both', alpha=1)\n",
    "plt.xlabel(\"Months\") \n",
    "plt.ylabel(\"Relative_Thirty_Day_Repeat_Rate(%)\")  \n",
    "plt.title(\"Relative Thirty Day Repeat Rate(%)\") \n",
    "plt.show()"
   ]
  },
  {
   "cell_type": "code",
   "execution_count": 115,
   "metadata": {},
   "outputs": [
    {
     "data": {
      "image/png": "[encoded data removed]",
      "text/plain": [
       "<Figure size 1080x720 with 1 Axes>"
      ]
     },
     "metadata": {},
     "output_type": "display_data"
    }
   ],
   "source": [
    "#plotting a line chart for Repeat Rate For Repeat Rate For Thirtydays(%)\n",
    "Plot_Months_for_thirty_day_repeat_rate_thirtyday_df=thirtyday_df['Months_For_Thirty_Day_Repeat_Rate']\n",
    "Plot_thirtyday_repeat_rate_percent_thirtyday_df=thirtyday_df['Repeat_Rate_For_Thirtydays(%)']\n",
    "Plot_thirtyday_repeat_rate_thirtyday_df=thirtyday_df['Relative_Thirty_Day_Repeat_Rate(%)']\n",
    "\n",
    "plt.rcParams[\"figure.figsize\"] = (15, 10)\n",
    "plt.plot(Plot_Months_for_thirty_day_repeat_rate_thirtyday_df, Plot_thirtyday_repeat_rate_thirtyday_df,marker='o', linewidth=1.7,mfc='red')\n",
    "plt.grid(color='black', linewidth=0.3, axis='both', alpha=1)\n",
    "plt.xlabel(\"Months\") \n",
    "plt.ylabel(\"Repeat_Rate_For_Thirtydays(%)\")  \n",
    "plt.title(\"Repeat Rate For Thirtydays(%)\")   \n",
    "plt.show()"
   ]
  },
  {
   "cell_type": "code",
   "execution_count": null,
   "metadata": {},
   "outputs": [],
   "source": []
  },
  {
   "cell_type": "code",
   "execution_count": null,
   "metadata": {},
   "outputs": [],
   "source": []
  },
  {
   "cell_type": "code",
   "execution_count": 94,
   "metadata": {},
   "outputs": [
    {
     "name": "stdout",
     "output_type": "stream",
     "text": [
      "10.446503791069924\n",
      "10.864084345633739\n",
      "10.395247886680375\n",
      "10.372986095784595\n",
      "10.365853658536585\n",
      "9.961106309420916\n"
     ]
    }
   ],
   "source": [
    "##Calculating repeat rate for every 60-Days\n",
    "length_unique_customers_repeated=len(unique_customers_repeated)\n",
    "length_total_cust_without_repeat_transaction=len(total_cust_without_repeat_transaction)\n",
    "i=0\n",
    "\n",
    "for i in range(0,length_unique_customers_repeated-1,2):\n",
    "    sixtyday_repeat_rate=((unique_customers_repeated[i] + unique_customers_repeated[i+1])/(total_cust_without_repeat_transaction[i]+total_cust_without_repeat_transaction[i+1]))*100\n",
    "    \n",
    "    print(sixtyday_repeat_rate)"
   ]
  },
  {
   "cell_type": "code",
   "execution_count": 95,
   "metadata": {},
   "outputs": [],
   "source": [
    "##creating a list of repeat rate for every 60-Days\n",
    "sixtyday_repeat_rate_lst=[10.446503791069923,10.864084345633739,10.395247886680374,10.372986095784595,10.365853658536585,9.961106309420917]"
   ]
  },
  {
   "cell_type": "code",
   "execution_count": 96,
   "metadata": {},
   "outputs": [
    {
     "name": "stdout",
     "output_type": "stream",
     "text": [
      "3.9973235344133107\n",
      "-4.31547145656862\n",
      "-0.21415353571609952\n",
      "-0.06875973015050274\n",
      "-3.904621485586446\n"
     ]
    }
   ],
   "source": [
    "##Calculating 60-Day repeat rate \n",
    "sixtyday_repeat_rate_length=len(sixtyday_repeat_rate_lst)\n",
    "for i in range(sixtyday_repeat_rate_length-1):\n",
    "    sixtyday_repeat_rate_percent=(((sixtyday_repeat_rate_lst[i+1]/sixtyday_repeat_rate_lst[i])-1)*100)\n",
    "    print(sixtyday_repeat_rate_percent)"
   ]
  },
  {
   "cell_type": "code",
   "execution_count": 97,
   "metadata": {},
   "outputs": [],
   "source": [
    "##Creating a list of 60-Day repeat rate \n",
    "sixtyday_repeat_rate_percent_lst=[0,3.9973235344132885,-4.315471456568631,-0.21415353571609952,-0.06875973015049164,-3.904621485586446]"
   ]
  },
  {
   "cell_type": "code",
   "execution_count": 98,
   "metadata": {},
   "outputs": [],
   "source": [
    "Months_for_sixty_day_repeat_rate=['dec-jan','feb-mar','apr-may','jun-jul','aug-spt','otb-nov']"
   ]
  },
  {
   "cell_type": "code",
   "execution_count": 120,
   "metadata": {},
   "outputs": [],
   "source": [
    "dict_for_sixty_day_repeat_rate = {'Months_For_Sixty_Day_Repeat_Rate': Months_for_sixty_day_repeat_rate, 'Repeat_Rate_For_Sixtydays(%)': sixtyday_repeat_rate_lst, 'Relative_Sixty_Day_Repeat_Rate(%)': sixtyday_repeat_rate_percent_lst}"
   ]
  },
  {
   "cell_type": "code",
   "execution_count": 121,
   "metadata": {},
   "outputs": [
    {
     "data": {
      "text/html": [
       "<div>\n",
       "<style scoped>\n",
       "    .dataframe tbody tr th:only-of-type {\n",
       "        vertical-align: middle;\n",
       "    }\n",
       "\n",
       "    .dataframe tbody tr th {\n",
       "        vertical-align: top;\n",
       "    }\n",
       "\n",
       "    .dataframe thead th {\n",
       "        text-align: right;\n",
       "    }\n",
       "</style>\n",
       "<table border=\"1\" class=\"dataframe\">\n",
       "  <thead>\n",
       "    <tr style=\"text-align: right;\">\n",
       "      <th></th>\n",
       "      <th>Months_For_Sixty_Day_Repeat_Rate</th>\n",
       "      <th>Repeat_Rate_For_Sixtydays(%)</th>\n",
       "      <th>Relative_Sixty_Day_Repeat_Rate(%)</th>\n",
       "    </tr>\n",
       "  </thead>\n",
       "  <tbody>\n",
       "    <tr>\n",
       "      <th>0</th>\n",
       "      <td>dec-jan</td>\n",
       "      <td>10.446504</td>\n",
       "      <td>0.000000</td>\n",
       "    </tr>\n",
       "    <tr>\n",
       "      <th>1</th>\n",
       "      <td>feb-mar</td>\n",
       "      <td>10.864084</td>\n",
       "      <td>3.997324</td>\n",
       "    </tr>\n",
       "    <tr>\n",
       "      <th>2</th>\n",
       "      <td>apr-may</td>\n",
       "      <td>10.395248</td>\n",
       "      <td>-4.315471</td>\n",
       "    </tr>\n",
       "    <tr>\n",
       "      <th>3</th>\n",
       "      <td>jun-jul</td>\n",
       "      <td>10.372986</td>\n",
       "      <td>-0.214154</td>\n",
       "    </tr>\n",
       "    <tr>\n",
       "      <th>4</th>\n",
       "      <td>aug-spt</td>\n",
       "      <td>10.365854</td>\n",
       "      <td>-0.068760</td>\n",
       "    </tr>\n",
       "    <tr>\n",
       "      <th>5</th>\n",
       "      <td>otb-nov</td>\n",
       "      <td>9.961106</td>\n",
       "      <td>-3.904621</td>\n",
       "    </tr>\n",
       "  </tbody>\n",
       "</table>\n",
       "</div>"
      ],
      "text/plain": [
       "  Months_For_Sixty_Day_Repeat_Rate  Repeat_Rate_For_Sixtydays(%)  \\\n",
       "0                          dec-jan                     10.446504   \n",
       "1                          feb-mar                     10.864084   \n",
       "2                          apr-may                     10.395248   \n",
       "3                          jun-jul                     10.372986   \n",
       "4                          aug-spt                     10.365854   \n",
       "5                          otb-nov                      9.961106   \n",
       "\n",
       "   Relative_Sixty_Day_Repeat_Rate(%)  \n",
       "0                           0.000000  \n",
       "1                           3.997324  \n",
       "2                          -4.315471  \n",
       "3                          -0.214154  \n",
       "4                          -0.068760  \n",
       "5                          -3.904621  "
      ]
     },
     "execution_count": 121,
     "metadata": {},
     "output_type": "execute_result"
    }
   ],
   "source": [
    "sixtyday_df= pd.DataFrame(dict_for_sixty_day_repeat_rate)\n",
    "sixtyday_df"
   ]
  },
  {
   "cell_type": "code",
   "execution_count": 124,
   "metadata": {},
   "outputs": [
    {
     "data": {
      "image/png": "[encoded data removed]",
      "text/plain": [
       "<Figure size 720x576 with 1 Axes>"
      ]
     },
     "metadata": {},
     "output_type": "display_data"
    }
   ],
   "source": [
    "#plotting a line chart for Month on Relative Sixty Day Repeat Rate (%)\n",
    "Plot_Months_for_sixty_day_repeat_rate_sixtyday_df=sixtyday_df['Months_For_Sixty_Day_Repeat_Rate']\n",
    "Plot_sixtyday_repeat_rate_percent_sixtyday_df=sixtyday_df['Relative_Sixty_Day_Repeat_Rate(%)']\n",
    "Plot_sixtyday_repeat_rate_sixtyday_df=sixtyday_df['Repeat_Rate_For_Sixtydays(%)']\n",
    "\n",
    "plt.rcParams[\"figure.figsize\"] = (10, 8)\n",
    "plt.plot(Plot_Months_for_sixty_day_repeat_rate_sixtyday_df, Plot_sixtyday_repeat_rate_percent_sixtyday_df,marker='o', linewidth=1.7,mfc='red')\n",
    "plt.grid(color='black', linewidth=0.3, axis='both', alpha=1)\n",
    "plt.xlabel(\"Months\") \n",
    "plt.ylabel(\"Relative_Sixty_Day_Repeat_Rate(%)\")  \n",
    "plt.title(\"Relative Sixty Day Repeat Rate (%)\")  \n",
    "plt.show()"
   ]
  },
  {
   "cell_type": "code",
   "execution_count": 125,
   "metadata": {},
   "outputs": [
    {
     "data": {
      "image/png": "[encoded data removed]",
      "text/plain": [
       "<Figure size 720x576 with 1 Axes>"
      ]
     },
     "metadata": {},
     "output_type": "display_data"
    }
   ],
   "source": [
    "plt.rcParams[\"figure.figsize\"] = (10, 8)\n",
    "plt.plot(Plot_Months_for_sixty_day_repeat_rate_sixtyday_df, Plot_sixtyday_repeat_rate_sixtyday_df,marker='o', linewidth=1.7,mfc='red')\n",
    "plt.grid(color='black', linewidth=0.3, axis='both', alpha=1)\n",
    "plt.xlabel(\"Months\") \n",
    "plt.ylabel(\"Repeat_Rate_For_Sixtydays(%)\")  \n",
    "plt.title(\"Repeat Rate For Sixtydays(%)\")  \n",
    "plt.show()"
   ]
  },
  {
   "cell_type": "code",
   "execution_count": null,
   "metadata": {},
   "outputs": [],
   "source": []
  },
  {
   "cell_type": "code",
   "execution_count": null,
   "metadata": {},
   "outputs": [],
   "source": []
  },
  {
   "cell_type": "code",
   "execution_count": 103,
   "metadata": {},
   "outputs": [
    {
     "name": "stdout",
     "output_type": "stream",
     "text": [
      "10.389042692699986\n",
      "10.747169811320754\n",
      "10.489717413818612\n",
      "9.973637961335676\n"
     ]
    }
   ],
   "source": [
    "##Calculating repeat rate for every 90-Days\n",
    "length_unique_customers_repeated=len(unique_customers_repeated)\n",
    "length_total_cust_without_repeat_transaction=len(total_cust_without_repeat_transaction)\n",
    "i=0\n",
    "\n",
    "for i in range(0,length_unique_customers_repeated-1,3):\n",
    "    nintyday_repeat_rate=((unique_customers_repeated[i] + unique_customers_repeated[i+1] + unique_customers_repeated[i+2])/(total_cust_without_repeat_transaction[i]+total_cust_without_repeat_transaction[i+1]+total_cust_without_repeat_transaction[i+2]))*100\n",
    "    \n",
    "    print(nintyday_repeat_rate)"
   ]
  },
  {
   "cell_type": "code",
   "execution_count": 104,
   "metadata": {},
   "outputs": [],
   "source": [
    "##creating a list of repeat rate for every 90-Days\n",
    "nintyday_repeat_rate_lst=[10.389042692699986,10.747169811320754,10.489717413818613,09.973637961335677]"
   ]
  },
  {
   "cell_type": "code",
   "execution_count": 105,
   "metadata": {},
   "outputs": [
    {
     "name": "stdout",
     "output_type": "stream",
     "text": [
      "3.4471618725025577\n",
      "-2.395536704286072\n",
      "-4.91986039398048\n"
     ]
    }
   ],
   "source": [
    "##Calculating 90-Day repeat rate \n",
    "nintyday_repeat_rate_length=len(nintyday_repeat_rate_lst)\n",
    "for i in range(nintyday_repeat_rate_length-1):\n",
    "    nintyday_repeat_rate_percent=(((nintyday_repeat_rate_lst[i+1]/nintyday_repeat_rate_lst[i])-1)*100)\n",
    "    print(nintyday_repeat_rate_percent)"
   ]
  },
  {
   "cell_type": "code",
   "execution_count": 106,
   "metadata": {},
   "outputs": [],
   "source": [
    "##Creating a list of 90-Day repeat rate \n",
    "nintyday_repeat_rate_percent_lst=[0,3.44716187250258,-2.395536704286083,-4.91986039398048]"
   ]
  },
  {
   "cell_type": "code",
   "execution_count": 107,
   "metadata": {},
   "outputs": [],
   "source": [
    "Months_for_ninty_day_repeat_rate=['dec-jan-feb','mar-apr-may','jun-jul-aug','spt-otb-nov']"
   ]
  },
  {
   "cell_type": "code",
   "execution_count": 129,
   "metadata": {},
   "outputs": [],
   "source": [
    "dict_for_ninty_day_repeat_rate = {'Months_For_Ninty_Day_Repeat_Rate': Months_for_ninty_day_repeat_rate, 'Repeat_Rate_For_Nintydays(%)': nintyday_repeat_rate_lst, 'Relative_Ninty_Day_Repeat_Rate(%)': nintyday_repeat_rate_percent_lst}"
   ]
  },
  {
   "cell_type": "code",
   "execution_count": 130,
   "metadata": {},
   "outputs": [
    {
     "data": {
      "text/html": [
       "<div>\n",
       "<style scoped>\n",
       "    .dataframe tbody tr th:only-of-type {\n",
       "        vertical-align: middle;\n",
       "    }\n",
       "\n",
       "    .dataframe tbody tr th {\n",
       "        vertical-align: top;\n",
       "    }\n",
       "\n",
       "    .dataframe thead th {\n",
       "        text-align: right;\n",
       "    }\n",
       "</style>\n",
       "<table border=\"1\" class=\"dataframe\">\n",
       "  <thead>\n",
       "    <tr style=\"text-align: right;\">\n",
       "      <th></th>\n",
       "      <th>Months_For_Ninty_Day_Repeat_Rate</th>\n",
       "      <th>Repeat_Rate_For_Nintydays(%)</th>\n",
       "      <th>Relative_Ninty_Day_Repeat_Rate(%)</th>\n",
       "    </tr>\n",
       "  </thead>\n",
       "  <tbody>\n",
       "    <tr>\n",
       "      <th>0</th>\n",
       "      <td>dec-jan-feb</td>\n",
       "      <td>10.389043</td>\n",
       "      <td>0.000000</td>\n",
       "    </tr>\n",
       "    <tr>\n",
       "      <th>1</th>\n",
       "      <td>mar-apr-may</td>\n",
       "      <td>10.747170</td>\n",
       "      <td>3.447162</td>\n",
       "    </tr>\n",
       "    <tr>\n",
       "      <th>2</th>\n",
       "      <td>jun-jul-aug</td>\n",
       "      <td>10.489717</td>\n",
       "      <td>-2.395537</td>\n",
       "    </tr>\n",
       "    <tr>\n",
       "      <th>3</th>\n",
       "      <td>spt-otb-nov</td>\n",
       "      <td>9.973638</td>\n",
       "      <td>-4.919860</td>\n",
       "    </tr>\n",
       "  </tbody>\n",
       "</table>\n",
       "</div>"
      ],
      "text/plain": [
       "  Months_For_Ninty_Day_Repeat_Rate  Repeat_Rate_For_Nintydays(%)  \\\n",
       "0                      dec-jan-feb                     10.389043   \n",
       "1                      mar-apr-may                     10.747170   \n",
       "2                      jun-jul-aug                     10.489717   \n",
       "3                      spt-otb-nov                      9.973638   \n",
       "\n",
       "   Relative_Ninty_Day_Repeat_Rate(%)  \n",
       "0                           0.000000  \n",
       "1                           3.447162  \n",
       "2                          -2.395537  \n",
       "3                          -4.919860  "
      ]
     },
     "execution_count": 130,
     "metadata": {},
     "output_type": "execute_result"
    }
   ],
   "source": [
    "nintyday_df= pd.DataFrame(dict_for_ninty_day_repeat_rate)\n",
    "nintyday_df"
   ]
  },
  {
   "cell_type": "code",
   "execution_count": 132,
   "metadata": {},
   "outputs": [
    {
     "data": {
      "image/png": "[encoded data removed]",
      "text/plain": [
       "<Figure size 720x576 with 1 Axes>"
      ]
     },
     "metadata": {},
     "output_type": "display_data"
    }
   ],
   "source": [
    "#plotting a line chart for Relative Ninty Day Repeat Rate(%)\n",
    "Plot_Months_for_ninty_day_repeat_rate_nintyday_df=nintyday_df['Months_For_Ninty_Day_Repeat_Rate']\n",
    "Plot_nintyday_repeat_rate_percent_nintyday_df=nintyday_df['Relative_Ninty_Day_Repeat_Rate(%)']\n",
    "Plot_nintyday_repeat_rate_nintyday_df=nintyday_df['Repeat_Rate_For_Nintydays(%)']\n",
    "\n",
    "plt.rcParams[\"figure.figsize\"] = (10, 8)\n",
    "plt.plot(Plot_Months_for_ninty_day_repeat_rate_nintyday_df, Plot_nintyday_repeat_rate_percent_nintyday_df,marker='o', linewidth=1.7,mfc='red')\n",
    "plt.grid(color='black', linewidth=0.3, axis='both', alpha=1)\n",
    "plt.xlabel(\"Months\") \n",
    "plt.ylabel(\"Relative_Ninty_Day_Repeat_Rate(%)\")  \n",
    "plt.title(\"Relative Ninty Day Repeat Rate(%)\")  \n",
    "plt.show()"
   ]
  },
  {
   "cell_type": "code",
   "execution_count": 133,
   "metadata": {},
   "outputs": [
    {
     "data": {
      "image/png": "[encoded data removed]",
      "text/plain": [
       "<Figure size 720x576 with 1 Axes>"
      ]
     },
     "metadata": {},
     "output_type": "display_data"
    }
   ],
   "source": [
    "#plotting a line chart for Repeat Rate For Nintydays(%)\n",
    "Plot_Months_for_ninty_day_repeat_rate_nintyday_df=nintyday_df['Months_For_Ninty_Day_Repeat_Rate']\n",
    "Plot_nintyday_repeat_rate_percent_nintyday_df=nintyday_df['Relative_Ninty_Day_Repeat_Rate(%)']\n",
    "Plot_nintyday_repeat_rate_nintyday_df=nintyday_df['Repeat_Rate_For_Nintydays(%)']\n",
    "\n",
    "plt.rcParams[\"figure.figsize\"] = (10, 8)\n",
    "plt.plot(Plot_Months_for_ninty_day_repeat_rate_nintyday_df, Plot_nintyday_repeat_rate_nintyday_df,marker='o', linewidth=1.7,mfc='red')\n",
    "plt.grid(color='black', linewidth=0.3, axis='both', alpha=1)\n",
    "plt.xlabel(\"Months\") \n",
    "plt.ylabel(\"Repeat_Rate_For_Nintydays(%)\")  \n",
    "plt.title(\"Repeat Rate For Nintydays(%)\")  \n",
    "plt.show()"
   ]
  },
  {
   "cell_type": "markdown",
   "metadata": {},
   "source": []
  },
  {
   "cell_type": "markdown",
   "metadata": {},
   "source": []
  },
  {
   "cell_type": "markdown",
   "metadata": {},
   "source": [
    "# SOLUTION FOR QUESTION-4 ##################"
   ]
  },
  {
   "cell_type": "markdown",
   "metadata": {},
   "source": [
    "#### QUESTION-4: What is the best repeat rate metric among the above to follow and why?"
   ]
  },
  {
   "cell_type": "markdown",
   "metadata": {},
   "source": [
    "#### "
   ]
  },
  {
   "cell_type": "markdown",
   "metadata": {},
   "source": [
    "As we observe data and charts in question 3, it is effective to use 30 day repeat day metric as we can keep track of repeated users, if we find a declining trend, strategy can be tuned to correct the course of customer repetition aspect.\n",
    "\n",
    "For example, If we find there is a drop in repeat rate in repeat rate in May compared to February, we can bring in service at lower price to attract customers or bring in most liked services to retain customers. \n",
    "\n",
    "On the contrary, if we choose to use 60 day or 90 day repeat rate, the business will not be agile enough to bring in changes to steer the customer repetition rate.\n",
    "\n",
    "Additionally in 30-Day repeat rate we get feedbacks which helps in assisting customers on a regular basis,  the company will be able to address customer inconvenience faster. With 60 day and 90 day repeat metric the feedback will pile up and this might add on to customer dissatisfaction.   \n",
    "Thus, we can conclude 30 day repeat rate is the better option.\n"
   ]
  },
  {
   "cell_type": "code",
   "execution_count": null,
   "metadata": {},
   "outputs": [],
   "source": []
  },
  {
   "cell_type": "code",
   "execution_count": null,
   "metadata": {},
   "outputs": [],
   "source": []
  },
  {
   "cell_type": "markdown",
   "metadata": {},
   "source": [
    "# SOLUTION FOR QUESTION-5 ##################"
   ]
  },
  {
   "cell_type": "markdown",
   "metadata": {},
   "source": [
    "#### QUESTION-5: Define churn period for this business and measure monthly churn rate"
   ]
  },
  {
   "cell_type": "markdown",
   "metadata": {},
   "source": [
    "#### "
   ]
  },
  {
   "cell_type": "code",
   "execution_count": 74,
   "metadata": {},
   "outputs": [],
   "source": [
    "unique_customers_repeated=[246,250,217,257,212,243,238,232,239,220,239,222]\n",
    "total_cust_without_repeat_transaction=[2424,2324,2115,2248,2188,2189,2241,2290,2228,2200,2352,2276]"
   ]
  },
  {
   "cell_type": "code",
   "execution_count": 75,
   "metadata": {},
   "outputs": [],
   "source": [
    "total_cust_without_repeat_transaction_lst=[2424,2324,2115,2248,2188,2189,2241,2290,2228,2200,2352,2276]"
   ]
  },
  {
   "cell_type": "code",
   "execution_count": 76,
   "metadata": {},
   "outputs": [
    {
     "name": "stdout",
     "output_type": "stream",
     "text": [
      "4.125412541254125\n",
      "8.993115318416525\n",
      "-6.288416075650118\n",
      "2.6690391459074734\n",
      "-0.04570383912248629\n",
      "-2.375513933302878\n",
      "-2.186523873270861\n",
      "2.7074235807860263\n",
      "1.2567324955116697\n",
      "-6.909090909090909\n",
      "3.231292517006803\n"
     ]
    }
   ],
   "source": [
    "total_cust_without_repeat_transaction_length=len(total_cust_without_repeat_transaction_lst)\n",
    "i=0\n",
    "for i in range(total_cust_without_repeat_transaction_length-1):\n",
    "    churn_rate=(((total_cust_without_repeat_transaction_lst[i]-total_cust_without_repeat_transaction_lst[i+1])/total_cust_without_repeat_transaction_lst[i])*100)\n",
    "    print(churn_rate)"
   ]
  },
  {
   "cell_type": "code",
   "execution_count": 77,
   "metadata": {},
   "outputs": [],
   "source": [
    "churn_rate_lst=[0,4.125412541254125,8.993115318416525,-6.288416075650118,2.6690391459074734,-0.04570383912248629,-2.375513933302878,-2.186523873270861,2.7074235807860263,1.2567324955116697,-6.909090909090909,3.231292517006803]"
   ]
  },
  {
   "cell_type": "code",
   "execution_count": 78,
   "metadata": {},
   "outputs": [],
   "source": [
    "fifth_question_df_dict = {'Months': Monthss, 'Repeat_Customers': unique_customers_repeated, 'Total_Customers_Without_Repeated_Bookings': total_cust_without_repeat_transaction, 'Churn_Rate (%)':churn_rate_lst} "
   ]
  },
  {
   "cell_type": "code",
   "execution_count": 79,
   "metadata": {},
   "outputs": [],
   "source": [
    "fifth_question_df = pd.DataFrame(fifth_question_df_dict)"
   ]
  },
  {
   "cell_type": "code",
   "execution_count": 80,
   "metadata": {},
   "outputs": [
    {
     "data": {
      "text/html": [
       "<div>\n",
       "<style scoped>\n",
       "    .dataframe tbody tr th:only-of-type {\n",
       "        vertical-align: middle;\n",
       "    }\n",
       "\n",
       "    .dataframe tbody tr th {\n",
       "        vertical-align: top;\n",
       "    }\n",
       "\n",
       "    .dataframe thead th {\n",
       "        text-align: right;\n",
       "    }\n",
       "</style>\n",
       "<table border=\"1\" class=\"dataframe\">\n",
       "  <thead>\n",
       "    <tr style=\"text-align: right;\">\n",
       "      <th></th>\n",
       "      <th>Months</th>\n",
       "      <th>Repeat_Customers</th>\n",
       "      <th>Total_Customers_Without_Repeated_Bookings</th>\n",
       "      <th>Churn_Rate (%)</th>\n",
       "    </tr>\n",
       "  </thead>\n",
       "  <tbody>\n",
       "    <tr>\n",
       "      <th>0</th>\n",
       "      <td>dec</td>\n",
       "      <td>246</td>\n",
       "      <td>2424</td>\n",
       "      <td>0.000000</td>\n",
       "    </tr>\n",
       "    <tr>\n",
       "      <th>1</th>\n",
       "      <td>jan</td>\n",
       "      <td>250</td>\n",
       "      <td>2324</td>\n",
       "      <td>4.125413</td>\n",
       "    </tr>\n",
       "    <tr>\n",
       "      <th>2</th>\n",
       "      <td>feb</td>\n",
       "      <td>217</td>\n",
       "      <td>2115</td>\n",
       "      <td>8.993115</td>\n",
       "    </tr>\n",
       "    <tr>\n",
       "      <th>3</th>\n",
       "      <td>mar</td>\n",
       "      <td>257</td>\n",
       "      <td>2248</td>\n",
       "      <td>-6.288416</td>\n",
       "    </tr>\n",
       "    <tr>\n",
       "      <th>4</th>\n",
       "      <td>apr</td>\n",
       "      <td>212</td>\n",
       "      <td>2188</td>\n",
       "      <td>2.669039</td>\n",
       "    </tr>\n",
       "    <tr>\n",
       "      <th>5</th>\n",
       "      <td>may</td>\n",
       "      <td>243</td>\n",
       "      <td>2189</td>\n",
       "      <td>-0.045704</td>\n",
       "    </tr>\n",
       "    <tr>\n",
       "      <th>6</th>\n",
       "      <td>jun</td>\n",
       "      <td>238</td>\n",
       "      <td>2241</td>\n",
       "      <td>-2.375514</td>\n",
       "    </tr>\n",
       "    <tr>\n",
       "      <th>7</th>\n",
       "      <td>jul</td>\n",
       "      <td>232</td>\n",
       "      <td>2290</td>\n",
       "      <td>-2.186524</td>\n",
       "    </tr>\n",
       "    <tr>\n",
       "      <th>8</th>\n",
       "      <td>aug</td>\n",
       "      <td>239</td>\n",
       "      <td>2228</td>\n",
       "      <td>2.707424</td>\n",
       "    </tr>\n",
       "    <tr>\n",
       "      <th>9</th>\n",
       "      <td>spt</td>\n",
       "      <td>220</td>\n",
       "      <td>2200</td>\n",
       "      <td>1.256732</td>\n",
       "    </tr>\n",
       "    <tr>\n",
       "      <th>10</th>\n",
       "      <td>otb</td>\n",
       "      <td>239</td>\n",
       "      <td>2352</td>\n",
       "      <td>-6.909091</td>\n",
       "    </tr>\n",
       "    <tr>\n",
       "      <th>11</th>\n",
       "      <td>nov</td>\n",
       "      <td>222</td>\n",
       "      <td>2276</td>\n",
       "      <td>3.231293</td>\n",
       "    </tr>\n",
       "  </tbody>\n",
       "</table>\n",
       "</div>"
      ],
      "text/plain": [
       "   Months  Repeat_Customers  Total_Customers_Without_Repeated_Bookings  \\\n",
       "0     dec               246                                       2424   \n",
       "1     jan               250                                       2324   \n",
       "2     feb               217                                       2115   \n",
       "3     mar               257                                       2248   \n",
       "4     apr               212                                       2188   \n",
       "5     may               243                                       2189   \n",
       "6     jun               238                                       2241   \n",
       "7     jul               232                                       2290   \n",
       "8     aug               239                                       2228   \n",
       "9     spt               220                                       2200   \n",
       "10    otb               239                                       2352   \n",
       "11    nov               222                                       2276   \n",
       "\n",
       "    Churn_Rate (%)  \n",
       "0         0.000000  \n",
       "1         4.125413  \n",
       "2         8.993115  \n",
       "3        -6.288416  \n",
       "4         2.669039  \n",
       "5        -0.045704  \n",
       "6        -2.375514  \n",
       "7        -2.186524  \n",
       "8         2.707424  \n",
       "9         1.256732  \n",
       "10       -6.909091  \n",
       "11        3.231293  "
      ]
     },
     "execution_count": 80,
     "metadata": {},
     "output_type": "execute_result"
    }
   ],
   "source": [
    "fifth_question_df"
   ]
  },
  {
   "cell_type": "code",
   "execution_count": 81,
   "metadata": {
    "scrolled": false
   },
   "outputs": [
    {
     "data": {
      "image/png": "[encoded data removed]",
      "text/plain": [
       "<Figure size 1080x720 with 1 Axes>"
      ]
     },
     "metadata": {
      "needs_background": "light"
     },
     "output_type": "display_data"
    }
   ],
   "source": [
    "Plot_Months_second_question_df=second_question_df['Months']\n",
    "Plot_unique_customers_repeated_second_question_df=second_question_df['Repeat_Customers']\n",
    "Plot_total_cust_without_repeat_transaction_second_question_df=second_question_df['Total_Customers_Without_Repeated_Bookings']\n",
    "Plot_churn_rate_fifth_question_df=fifth_question_df['Churn_Rate (%)']\n",
    "plt.rcParams[\"figure.figsize\"] = (15, 10)\n",
    "plt.plot(Plot_Months_second_question_df, Plot_churn_rate_fifth_question_df,marker='o', linewidth=1.7,mfc='red')\n",
    "plt.grid(color='black', linewidth=0.3, axis='both', alpha=1)\n",
    "plt.xlabel(\"Months\") \n",
    "plt.ylabel(\"churn_rate (%)\")  \n",
    "plt.title(\"Churn rate (%)\")  \n",
    "plt.show()"
   ]
  },
  {
   "cell_type": "markdown",
   "metadata": {},
   "source": []
  },
  {
   "cell_type": "markdown",
   "metadata": {},
   "source": []
  },
  {
   "cell_type": "markdown",
   "metadata": {},
   "source": [
    "# SOLUTION FOR QUESTION-6 ##################"
   ]
  },
  {
   "cell_type": "markdown",
   "metadata": {},
   "source": [
    "#### QUESTION-6: Plot repeat frequency distribution by users"
   ]
  },
  {
   "cell_type": "markdown",
   "metadata": {},
   "source": [
    "#### "
   ]
  },
  {
   "cell_type": "code",
   "execution_count": 82,
   "metadata": {},
   "outputs": [
    {
     "name": "stdout",
     "output_type": "stream",
     "text": [
      "       No_of_Bookings  count\n",
      "0                9066     56\n",
      "1                9695     52\n",
      "2                3659     49\n",
      "3                7385     46\n",
      "4               16693     46\n",
      "...               ...    ...\n",
      "16706            5739      1\n",
      "16707            7786      1\n",
      "16708            1641      1\n",
      "16709            3688      1\n",
      "16710            2049      1\n",
      "\n",
      "[16711 rows x 2 columns]\n"
     ]
    }
   ],
   "source": [
    "#getting the repeated count of unique 'Profile ID'\n",
    "gh=df['Profile ID'].value_counts().rename_axis('No_of_Bookings').reset_index(name='count')\n",
    "print(gh)"
   ]
  },
  {
   "cell_type": "code",
   "execution_count": 83,
   "metadata": {
    "scrolled": true
   },
   "outputs": [
    {
     "name": "stdout",
     "output_type": "stream",
     "text": [
      "                count\n",
      "No_of_Bookings       \n",
      "1               12020\n",
      "2                2258\n",
      "3                 849\n",
      "4                 506\n",
      "5                 272\n",
      "6                 176\n",
      "7                 141\n",
      "8                 106\n",
      "9                  66\n",
      "10                 44\n",
      "11                 53\n",
      "12                 42\n",
      "13                 33\n",
      "14                 17\n",
      "15                 20\n",
      "16                 18\n",
      "17                 10\n",
      "18                 10\n",
      "19                  5\n",
      "20                 10\n",
      "21                  7\n",
      "22                  4\n",
      "23                  3\n",
      "24                  7\n",
      "25                  4\n",
      "26                  7\n",
      "27                  3\n",
      "28                  3\n",
      "29                  4\n",
      "30                  1\n",
      "32                  2\n",
      "33                  1\n",
      "34                  1\n",
      "36                  1\n",
      "39                  1\n",
      "41                  1\n",
      "46                  2\n",
      "49                  1\n",
      "52                  1\n",
      "56                  1\n"
     ]
    }
   ],
   "source": [
    "#creating pivot table for count of unique 'Profile ID' column\n",
    "dups_repeated = gh.pivot_table(columns=['count'], aggfunc='size').rename_axis('No_of_Bookings').to_frame('count')\n",
    "print (dups_repeated)"
   ]
  },
  {
   "cell_type": "code",
   "execution_count": 84,
   "metadata": {},
   "outputs": [],
   "source": [
    "#creating a dataframe for count of unique 'Profile ID' column\n",
    "prof=pd.DataFrame(dups_repeated, columns=['No_of_Bookings','count'])\n",
    "prof=prof.drop(prof.columns[0],axis = 1)\n",
    "prof.reset_index(level=0, inplace=True)"
   ]
  },
  {
   "cell_type": "code",
   "execution_count": 85,
   "metadata": {},
   "outputs": [
    {
     "name": "stdout",
     "output_type": "stream",
     "text": [
      "(40, 2)\n"
     ]
    }
   ],
   "source": [
    "#getting the dimensions of the dataset prof i.e. rows and columns of the dataset \n",
    "print(prof.shape)"
   ]
  },
  {
   "cell_type": "code",
   "execution_count": 86,
   "metadata": {},
   "outputs": [
    {
     "name": "stdout",
     "output_type": "stream",
     "text": [
      "    No_of_Bookings  count\n",
      "0                1  12020\n",
      "1                2   2258\n",
      "2                3    849\n",
      "3                4    506\n",
      "4                5    272\n",
      "5                6    176\n",
      "6                7    141\n",
      "7                8    106\n",
      "8                9     66\n",
      "9               10     44\n",
      "10              11     53\n",
      "11              12     42\n",
      "12              13     33\n",
      "13              14     17\n",
      "14              15     20\n",
      "15              16     18\n",
      "16              17     10\n",
      "17              18     10\n",
      "18              19      5\n",
      "19              20     10\n",
      "20              21      7\n",
      "21              22      4\n",
      "22              23      3\n",
      "23              24      7\n",
      "24              25      4\n",
      "25              26      7\n",
      "26              27      3\n",
      "27              28      3\n",
      "28              29      4\n",
      "29              30      1\n",
      "30              32      2\n",
      "31              33      1\n",
      "32              34      1\n",
      "33              36      1\n",
      "34              39      1\n",
      "35              41      1\n",
      "36              46      2\n",
      "37              49      1\n",
      "38              52      1\n",
      "39              56      1\n"
     ]
    }
   ],
   "source": [
    "print(prof)"
   ]
  },
  {
   "cell_type": "code",
   "execution_count": 87,
   "metadata": {},
   "outputs": [
    {
     "data": {
      "image/png": "[encoded data removed]",
      "text/plain": [
       "<Figure size 1296x576 with 1 Axes>"
      ]
     },
     "metadata": {
      "needs_background": "light"
     },
     "output_type": "display_data"
    }
   ],
   "source": [
    "#plotting a bar grahp for repeat frequency distribution by users\n",
    "name=prof['No_of_Bookings']\n",
    "count=prof['count']\n",
    "plt.rcParams[\"figure.figsize\"] = (18, 8)\n",
    "plt.bar(name, count, color ='blue',\n",
    "        width = 0.4)\n",
    "plt.grid(color='black', linewidth=0.1, axis='both', alpha=0.9)\n",
    "plt.xticks([1,2,3,4,5,6,7,8,9,10,11,12,13,14,15,16,17,18,19,20,21,22,23,24,25,26,27,28,29,30,31,32,33,34,35,36,37,38,39,40,41,42,43,44,45,46,47,48,49,50,51,52,53,54,55,56],color='black', rotation=45) \n",
    "plt.xlabel(\"No_of_Bookings values\")\n",
    "plt.ylabel(\"count\")\n",
    "plt.title(\"Repeat frequency distribution by users\")\n",
    "plt.show()"
   ]
  },
  {
   "cell_type": "code",
   "execution_count": 88,
   "metadata": {},
   "outputs": [
    {
     "data": {
      "text/html": [
       "<div>\n",
       "<style scoped>\n",
       "    .dataframe tbody tr th:only-of-type {\n",
       "        vertical-align: middle;\n",
       "    }\n",
       "\n",
       "    .dataframe tbody tr th {\n",
       "        vertical-align: top;\n",
       "    }\n",
       "\n",
       "    .dataframe thead th {\n",
       "        text-align: right;\n",
       "    }\n",
       "</style>\n",
       "<table border=\"1\" class=\"dataframe\">\n",
       "  <thead>\n",
       "    <tr style=\"text-align: right;\">\n",
       "      <th></th>\n",
       "      <th>No_of_Bookings</th>\n",
       "      <th>count</th>\n",
       "    </tr>\n",
       "  </thead>\n",
       "  <tbody>\n",
       "    <tr>\n",
       "      <th>3</th>\n",
       "      <td>4</td>\n",
       "      <td>506</td>\n",
       "    </tr>\n",
       "    <tr>\n",
       "      <th>4</th>\n",
       "      <td>5</td>\n",
       "      <td>272</td>\n",
       "    </tr>\n",
       "    <tr>\n",
       "      <th>5</th>\n",
       "      <td>6</td>\n",
       "      <td>176</td>\n",
       "    </tr>\n",
       "    <tr>\n",
       "      <th>6</th>\n",
       "      <td>7</td>\n",
       "      <td>141</td>\n",
       "    </tr>\n",
       "    <tr>\n",
       "      <th>7</th>\n",
       "      <td>8</td>\n",
       "      <td>106</td>\n",
       "    </tr>\n",
       "    <tr>\n",
       "      <th>8</th>\n",
       "      <td>9</td>\n",
       "      <td>66</td>\n",
       "    </tr>\n",
       "    <tr>\n",
       "      <th>9</th>\n",
       "      <td>10</td>\n",
       "      <td>44</td>\n",
       "    </tr>\n",
       "    <tr>\n",
       "      <th>10</th>\n",
       "      <td>11</td>\n",
       "      <td>53</td>\n",
       "    </tr>\n",
       "    <tr>\n",
       "      <th>11</th>\n",
       "      <td>12</td>\n",
       "      <td>42</td>\n",
       "    </tr>\n",
       "    <tr>\n",
       "      <th>12</th>\n",
       "      <td>13</td>\n",
       "      <td>33</td>\n",
       "    </tr>\n",
       "    <tr>\n",
       "      <th>13</th>\n",
       "      <td>14</td>\n",
       "      <td>17</td>\n",
       "    </tr>\n",
       "    <tr>\n",
       "      <th>14</th>\n",
       "      <td>15</td>\n",
       "      <td>20</td>\n",
       "    </tr>\n",
       "    <tr>\n",
       "      <th>15</th>\n",
       "      <td>16</td>\n",
       "      <td>18</td>\n",
       "    </tr>\n",
       "    <tr>\n",
       "      <th>16</th>\n",
       "      <td>17</td>\n",
       "      <td>10</td>\n",
       "    </tr>\n",
       "    <tr>\n",
       "      <th>17</th>\n",
       "      <td>18</td>\n",
       "      <td>10</td>\n",
       "    </tr>\n",
       "    <tr>\n",
       "      <th>18</th>\n",
       "      <td>19</td>\n",
       "      <td>5</td>\n",
       "    </tr>\n",
       "    <tr>\n",
       "      <th>19</th>\n",
       "      <td>20</td>\n",
       "      <td>10</td>\n",
       "    </tr>\n",
       "    <tr>\n",
       "      <th>20</th>\n",
       "      <td>21</td>\n",
       "      <td>7</td>\n",
       "    </tr>\n",
       "    <tr>\n",
       "      <th>21</th>\n",
       "      <td>22</td>\n",
       "      <td>4</td>\n",
       "    </tr>\n",
       "    <tr>\n",
       "      <th>22</th>\n",
       "      <td>23</td>\n",
       "      <td>3</td>\n",
       "    </tr>\n",
       "    <tr>\n",
       "      <th>23</th>\n",
       "      <td>24</td>\n",
       "      <td>7</td>\n",
       "    </tr>\n",
       "    <tr>\n",
       "      <th>24</th>\n",
       "      <td>25</td>\n",
       "      <td>4</td>\n",
       "    </tr>\n",
       "    <tr>\n",
       "      <th>25</th>\n",
       "      <td>26</td>\n",
       "      <td>7</td>\n",
       "    </tr>\n",
       "    <tr>\n",
       "      <th>26</th>\n",
       "      <td>27</td>\n",
       "      <td>3</td>\n",
       "    </tr>\n",
       "    <tr>\n",
       "      <th>27</th>\n",
       "      <td>28</td>\n",
       "      <td>3</td>\n",
       "    </tr>\n",
       "    <tr>\n",
       "      <th>28</th>\n",
       "      <td>29</td>\n",
       "      <td>4</td>\n",
       "    </tr>\n",
       "    <tr>\n",
       "      <th>29</th>\n",
       "      <td>30</td>\n",
       "      <td>1</td>\n",
       "    </tr>\n",
       "    <tr>\n",
       "      <th>30</th>\n",
       "      <td>32</td>\n",
       "      <td>2</td>\n",
       "    </tr>\n",
       "    <tr>\n",
       "      <th>31</th>\n",
       "      <td>33</td>\n",
       "      <td>1</td>\n",
       "    </tr>\n",
       "    <tr>\n",
       "      <th>32</th>\n",
       "      <td>34</td>\n",
       "      <td>1</td>\n",
       "    </tr>\n",
       "    <tr>\n",
       "      <th>33</th>\n",
       "      <td>36</td>\n",
       "      <td>1</td>\n",
       "    </tr>\n",
       "    <tr>\n",
       "      <th>34</th>\n",
       "      <td>39</td>\n",
       "      <td>1</td>\n",
       "    </tr>\n",
       "    <tr>\n",
       "      <th>35</th>\n",
       "      <td>41</td>\n",
       "      <td>1</td>\n",
       "    </tr>\n",
       "    <tr>\n",
       "      <th>36</th>\n",
       "      <td>46</td>\n",
       "      <td>2</td>\n",
       "    </tr>\n",
       "    <tr>\n",
       "      <th>37</th>\n",
       "      <td>49</td>\n",
       "      <td>1</td>\n",
       "    </tr>\n",
       "    <tr>\n",
       "      <th>38</th>\n",
       "      <td>52</td>\n",
       "      <td>1</td>\n",
       "    </tr>\n",
       "    <tr>\n",
       "      <th>39</th>\n",
       "      <td>56</td>\n",
       "      <td>1</td>\n",
       "    </tr>\n",
       "  </tbody>\n",
       "</table>\n",
       "</div>"
      ],
      "text/plain": [
       "    No_of_Bookings  count\n",
       "3                4    506\n",
       "4                5    272\n",
       "5                6    176\n",
       "6                7    141\n",
       "7                8    106\n",
       "8                9     66\n",
       "9               10     44\n",
       "10              11     53\n",
       "11              12     42\n",
       "12              13     33\n",
       "13              14     17\n",
       "14              15     20\n",
       "15              16     18\n",
       "16              17     10\n",
       "17              18     10\n",
       "18              19      5\n",
       "19              20     10\n",
       "20              21      7\n",
       "21              22      4\n",
       "22              23      3\n",
       "23              24      7\n",
       "24              25      4\n",
       "25              26      7\n",
       "26              27      3\n",
       "27              28      3\n",
       "28              29      4\n",
       "29              30      1\n",
       "30              32      2\n",
       "31              33      1\n",
       "32              34      1\n",
       "33              36      1\n",
       "34              39      1\n",
       "35              41      1\n",
       "36              46      2\n",
       "37              49      1\n",
       "38              52      1\n",
       "39              56      1"
      ]
     },
     "execution_count": 88,
     "metadata": {},
     "output_type": "execute_result"
    }
   ],
   "source": [
    "update_prof = prof.drop([prof.index[0],prof.index[1],prof.index[2]])\n",
    "update_prof"
   ]
  },
  {
   "cell_type": "code",
   "execution_count": 89,
   "metadata": {},
   "outputs": [
    {
     "data": {
      "image/png": "[encoded data removed]",
      "text/plain": [
       "<Figure size 1296x1440 with 1 Axes>"
      ]
     },
     "metadata": {
      "needs_background": "light"
     },
     "output_type": "display_data"
    }
   ],
   "source": [
    "#increasing the resolution of the bar graph to display repeat frequency distribution by users \n",
    "update_name=update_prof['No_of_Bookings']\n",
    "update_count=update_prof['count']\n",
    "#from brokenaxes import brokenaxes\n",
    "plt.rcParams[\"figure.figsize\"] = (18, 20)\n",
    "#baxes = brokenaxes(ylims=((0,2000),(2000,12100)), hspace=.05)\n",
    "plt.bar(update_name, update_count, color ='blue',\n",
    "        width = 0.4)\n",
    "plt.grid(color='black', linewidth=0.1, axis='both', alpha=0.9)\n",
    "plt.xticks([1,2,3,4,5,6,7,8,9,10,11,12,13,14,15,16,17,18,19,20,21,22,23,24,25,26,27,28,29,30,31,32,33,34,35,36,37,38,39,40,41,42,43,44,45,46,47,48,49,50,51,52,53,54,55,56],color='black', rotation=60)\n",
    "plt.yticks([1,10,25,50,75,100,125,150,175,200,225,250,275,300,325,350,375,400,425,450,475,500,525],color='black')\n",
    "\n",
    "plt.xlabel(\"unique values\")\n",
    "plt.ylabel(\"counts\")\n",
    "plt.title(\"Repeat frequency distribution by users\")\n",
    "plt.show()"
   ]
  },
  {
   "cell_type": "code",
   "execution_count": null,
   "metadata": {},
   "outputs": [],
   "source": []
  },
  {
   "cell_type": "code",
   "execution_count": null,
   "metadata": {},
   "outputs": [],
   "source": []
  },
  {
   "cell_type": "markdown",
   "metadata": {},
   "source": [
    "# SOLUTION FOR QUESTION-7 ##################"
   ]
  },
  {
   "cell_type": "markdown",
   "metadata": {},
   "source": [
    "#### QUESTION-7: Using the data available, find out reasons why certain users are repeating and certain users are not?"
   ]
  },
  {
   "cell_type": "markdown",
   "metadata": {},
   "source": [
    "#### "
   ]
  },
  {
   "cell_type": "markdown",
   "metadata": {},
   "source": [
    "We observe from the data that one individual has repeated 56 times which is the highest with profile ID 9066, and most of the individuals(12020) have booked the services only once. \n",
    "Since we have a total of 16711 users, and 12020 have availed the service only once, we have  repeated the 4691 individuals repeating the services. i.e. 28% have repeated.\n",
    "\n",
    "The reasons for repetition may be –\n",
    "1. Cost effective services\n",
    "2. Ease of availability – Home services provided\n",
    "3. Effective advertisement on limited social media platforms like Google Facebook etc. – This is evident from the ”Source” column in the data set.\n",
    "4. Services provided can be availed on requested date and requested hour, this is evident from the “Slot of Booking (Hour of the Day)” column and “Date_of_Service_Requested” column we can observe that the slots have bee booked from 6th hour to 19th hour. This feature is important for demographic that is employed or working class. \n",
    "\n",
    "The reasons for not repeating may be –\n",
    "1. Unsatisfied user experience\n",
    "2. From column “Source”, only 4 (A,B,C,D) are the social platforms, this number has to be increased.\n",
    "3. Older population in society may still stick on to brick and mortar shops\n",
    "4. Difficulty in using the app or website for senior population\n"
   ]
  },
  {
   "cell_type": "code",
   "execution_count": null,
   "metadata": {},
   "outputs": [],
   "source": []
  },
  {
   "cell_type": "code",
   "execution_count": null,
   "metadata": {},
   "outputs": [],
   "source": []
  }
 ],
 "metadata": {
  "kernelspec": {
   "display_name": "Python 3",
   "language": "python",
   "name": "python3"
  },
  "language_info": {
   "codemirror_mode": {
    "name": "ipython",
    "version": 3
   },
   "file_extension": ".py",
   "mimetype": "text/x-python",
   "name": "python",
   "nbconvert_exporter": "python",
   "pygments_lexer": "ipython3",
   "version": "3.7.1"
  }
 },
 "nbformat": 4,
 "nbformat_minor": 4
}
